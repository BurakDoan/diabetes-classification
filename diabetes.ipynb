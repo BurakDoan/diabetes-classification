{
 "cells": [
  {
   "cell_type": "code",
   "execution_count": 1,
   "id": "d92395d7-9fc2-4f6b-9cfa-8f27e84f059b",
   "metadata": {},
   "outputs": [],
   "source": [
    "import numpy as np\n",
    "import pandas as pd"
   ]
  },
  {
   "cell_type": "code",
   "execution_count": 2,
   "id": "8f17af22-ec04-4e97-a955-2ff0b54cb868",
   "metadata": {},
   "outputs": [
    {
     "data": {
      "text/html": [
       "<div>\n",
       "<style scoped>\n",
       "    .dataframe tbody tr th:only-of-type {\n",
       "        vertical-align: middle;\n",
       "    }\n",
       "\n",
       "    .dataframe tbody tr th {\n",
       "        vertical-align: top;\n",
       "    }\n",
       "\n",
       "    .dataframe thead th {\n",
       "        text-align: right;\n",
       "    }\n",
       "</style>\n",
       "<table border=\"1\" class=\"dataframe\">\n",
       "  <thead>\n",
       "    <tr style=\"text-align: right;\">\n",
       "      <th></th>\n",
       "      <th>Pregnancies</th>\n",
       "      <th>Glucose</th>\n",
       "      <th>BloodPressure</th>\n",
       "      <th>SkinThickness</th>\n",
       "      <th>Insulin</th>\n",
       "      <th>BMI</th>\n",
       "      <th>DiabetesPedigreeFunction</th>\n",
       "      <th>Age</th>\n",
       "      <th>Outcome</th>\n",
       "    </tr>\n",
       "  </thead>\n",
       "  <tbody>\n",
       "    <tr>\n",
       "      <th>0</th>\n",
       "      <td>6</td>\n",
       "      <td>148</td>\n",
       "      <td>72</td>\n",
       "      <td>35</td>\n",
       "      <td>0</td>\n",
       "      <td>33.6</td>\n",
       "      <td>0.627</td>\n",
       "      <td>50</td>\n",
       "      <td>1</td>\n",
       "    </tr>\n",
       "    <tr>\n",
       "      <th>1</th>\n",
       "      <td>1</td>\n",
       "      <td>85</td>\n",
       "      <td>66</td>\n",
       "      <td>29</td>\n",
       "      <td>0</td>\n",
       "      <td>26.6</td>\n",
       "      <td>0.351</td>\n",
       "      <td>31</td>\n",
       "      <td>0</td>\n",
       "    </tr>\n",
       "    <tr>\n",
       "      <th>2</th>\n",
       "      <td>8</td>\n",
       "      <td>183</td>\n",
       "      <td>64</td>\n",
       "      <td>0</td>\n",
       "      <td>0</td>\n",
       "      <td>23.3</td>\n",
       "      <td>0.672</td>\n",
       "      <td>32</td>\n",
       "      <td>1</td>\n",
       "    </tr>\n",
       "    <tr>\n",
       "      <th>3</th>\n",
       "      <td>1</td>\n",
       "      <td>89</td>\n",
       "      <td>66</td>\n",
       "      <td>23</td>\n",
       "      <td>94</td>\n",
       "      <td>28.1</td>\n",
       "      <td>0.167</td>\n",
       "      <td>21</td>\n",
       "      <td>0</td>\n",
       "    </tr>\n",
       "    <tr>\n",
       "      <th>4</th>\n",
       "      <td>0</td>\n",
       "      <td>137</td>\n",
       "      <td>40</td>\n",
       "      <td>35</td>\n",
       "      <td>168</td>\n",
       "      <td>43.1</td>\n",
       "      <td>2.288</td>\n",
       "      <td>33</td>\n",
       "      <td>1</td>\n",
       "    </tr>\n",
       "  </tbody>\n",
       "</table>\n",
       "</div>"
      ],
      "text/plain": [
       "   Pregnancies  Glucose  BloodPressure  SkinThickness  Insulin   BMI  \\\n",
       "0            6      148             72             35        0  33.6   \n",
       "1            1       85             66             29        0  26.6   \n",
       "2            8      183             64              0        0  23.3   \n",
       "3            1       89             66             23       94  28.1   \n",
       "4            0      137             40             35      168  43.1   \n",
       "\n",
       "   DiabetesPedigreeFunction  Age  Outcome  \n",
       "0                     0.627   50        1  \n",
       "1                     0.351   31        0  \n",
       "2                     0.672   32        1  \n",
       "3                     0.167   21        0  \n",
       "4                     2.288   33        1  "
      ]
     },
     "execution_count": 2,
     "metadata": {},
     "output_type": "execute_result"
    }
   ],
   "source": [
    "df=pd.read_csv('diabetes.csv')\n",
    "df.head()"
   ]
  },
  {
   "cell_type": "code",
   "execution_count": 3,
   "id": "940734f2-4ffa-447a-b562-4f365919ea8a",
   "metadata": {},
   "outputs": [
    {
     "data": {
      "text/plain": [
       "False"
      ]
     },
     "execution_count": 3,
     "metadata": {},
     "output_type": "execute_result"
    }
   ],
   "source": [
    "df.isnull().values.any()"
   ]
  },
  {
   "cell_type": "code",
   "execution_count": 4,
   "id": "b7bffa30-7594-45ed-a429-7335556b97b9",
   "metadata": {},
   "outputs": [
    {
     "data": {
      "text/html": [
       "<div>\n",
       "<style scoped>\n",
       "    .dataframe tbody tr th:only-of-type {\n",
       "        vertical-align: middle;\n",
       "    }\n",
       "\n",
       "    .dataframe tbody tr th {\n",
       "        vertical-align: top;\n",
       "    }\n",
       "\n",
       "    .dataframe thead th {\n",
       "        text-align: right;\n",
       "    }\n",
       "</style>\n",
       "<table border=\"1\" class=\"dataframe\">\n",
       "  <thead>\n",
       "    <tr style=\"text-align: right;\">\n",
       "      <th></th>\n",
       "      <th>count</th>\n",
       "      <th>mean</th>\n",
       "      <th>std</th>\n",
       "      <th>min</th>\n",
       "      <th>25%</th>\n",
       "      <th>50%</th>\n",
       "      <th>75%</th>\n",
       "      <th>max</th>\n",
       "    </tr>\n",
       "  </thead>\n",
       "  <tbody>\n",
       "    <tr>\n",
       "      <th>Pregnancies</th>\n",
       "      <td>768.0</td>\n",
       "      <td>3.845052</td>\n",
       "      <td>3.369578</td>\n",
       "      <td>0.000</td>\n",
       "      <td>1.00000</td>\n",
       "      <td>3.0000</td>\n",
       "      <td>6.00000</td>\n",
       "      <td>17.00</td>\n",
       "    </tr>\n",
       "    <tr>\n",
       "      <th>Glucose</th>\n",
       "      <td>768.0</td>\n",
       "      <td>120.894531</td>\n",
       "      <td>31.972618</td>\n",
       "      <td>0.000</td>\n",
       "      <td>99.00000</td>\n",
       "      <td>117.0000</td>\n",
       "      <td>140.25000</td>\n",
       "      <td>199.00</td>\n",
       "    </tr>\n",
       "    <tr>\n",
       "      <th>BloodPressure</th>\n",
       "      <td>768.0</td>\n",
       "      <td>69.105469</td>\n",
       "      <td>19.355807</td>\n",
       "      <td>0.000</td>\n",
       "      <td>62.00000</td>\n",
       "      <td>72.0000</td>\n",
       "      <td>80.00000</td>\n",
       "      <td>122.00</td>\n",
       "    </tr>\n",
       "    <tr>\n",
       "      <th>SkinThickness</th>\n",
       "      <td>768.0</td>\n",
       "      <td>20.536458</td>\n",
       "      <td>15.952218</td>\n",
       "      <td>0.000</td>\n",
       "      <td>0.00000</td>\n",
       "      <td>23.0000</td>\n",
       "      <td>32.00000</td>\n",
       "      <td>99.00</td>\n",
       "    </tr>\n",
       "    <tr>\n",
       "      <th>Insulin</th>\n",
       "      <td>768.0</td>\n",
       "      <td>79.799479</td>\n",
       "      <td>115.244002</td>\n",
       "      <td>0.000</td>\n",
       "      <td>0.00000</td>\n",
       "      <td>30.5000</td>\n",
       "      <td>127.25000</td>\n",
       "      <td>846.00</td>\n",
       "    </tr>\n",
       "    <tr>\n",
       "      <th>BMI</th>\n",
       "      <td>768.0</td>\n",
       "      <td>31.992578</td>\n",
       "      <td>7.884160</td>\n",
       "      <td>0.000</td>\n",
       "      <td>27.30000</td>\n",
       "      <td>32.0000</td>\n",
       "      <td>36.60000</td>\n",
       "      <td>67.10</td>\n",
       "    </tr>\n",
       "    <tr>\n",
       "      <th>DiabetesPedigreeFunction</th>\n",
       "      <td>768.0</td>\n",
       "      <td>0.471876</td>\n",
       "      <td>0.331329</td>\n",
       "      <td>0.078</td>\n",
       "      <td>0.24375</td>\n",
       "      <td>0.3725</td>\n",
       "      <td>0.62625</td>\n",
       "      <td>2.42</td>\n",
       "    </tr>\n",
       "    <tr>\n",
       "      <th>Age</th>\n",
       "      <td>768.0</td>\n",
       "      <td>33.240885</td>\n",
       "      <td>11.760232</td>\n",
       "      <td>21.000</td>\n",
       "      <td>24.00000</td>\n",
       "      <td>29.0000</td>\n",
       "      <td>41.00000</td>\n",
       "      <td>81.00</td>\n",
       "    </tr>\n",
       "    <tr>\n",
       "      <th>Outcome</th>\n",
       "      <td>768.0</td>\n",
       "      <td>0.348958</td>\n",
       "      <td>0.476951</td>\n",
       "      <td>0.000</td>\n",
       "      <td>0.00000</td>\n",
       "      <td>0.0000</td>\n",
       "      <td>1.00000</td>\n",
       "      <td>1.00</td>\n",
       "    </tr>\n",
       "  </tbody>\n",
       "</table>\n",
       "</div>"
      ],
      "text/plain": [
       "                          count        mean         std     min       25%  \\\n",
       "Pregnancies               768.0    3.845052    3.369578   0.000   1.00000   \n",
       "Glucose                   768.0  120.894531   31.972618   0.000  99.00000   \n",
       "BloodPressure             768.0   69.105469   19.355807   0.000  62.00000   \n",
       "SkinThickness             768.0   20.536458   15.952218   0.000   0.00000   \n",
       "Insulin                   768.0   79.799479  115.244002   0.000   0.00000   \n",
       "BMI                       768.0   31.992578    7.884160   0.000  27.30000   \n",
       "DiabetesPedigreeFunction  768.0    0.471876    0.331329   0.078   0.24375   \n",
       "Age                       768.0   33.240885   11.760232  21.000  24.00000   \n",
       "Outcome                   768.0    0.348958    0.476951   0.000   0.00000   \n",
       "\n",
       "                               50%        75%     max  \n",
       "Pregnancies                 3.0000    6.00000   17.00  \n",
       "Glucose                   117.0000  140.25000  199.00  \n",
       "BloodPressure              72.0000   80.00000  122.00  \n",
       "SkinThickness              23.0000   32.00000   99.00  \n",
       "Insulin                    30.5000  127.25000  846.00  \n",
       "BMI                        32.0000   36.60000   67.10  \n",
       "DiabetesPedigreeFunction    0.3725    0.62625    2.42  \n",
       "Age                        29.0000   41.00000   81.00  \n",
       "Outcome                     0.0000    1.00000    1.00  "
      ]
     },
     "execution_count": 4,
     "metadata": {},
     "output_type": "execute_result"
    }
   ],
   "source": [
    "df.describe().T"
   ]
  },
  {
   "cell_type": "code",
   "execution_count": 5,
   "id": "bc89b632-7aeb-4edf-9330-a09056f87597",
   "metadata": {},
   "outputs": [
    {
     "data": {
      "text/html": [
       "<div>\n",
       "<style scoped>\n",
       "    .dataframe tbody tr th:only-of-type {\n",
       "        vertical-align: middle;\n",
       "    }\n",
       "\n",
       "    .dataframe tbody tr th {\n",
       "        vertical-align: top;\n",
       "    }\n",
       "\n",
       "    .dataframe thead th {\n",
       "        text-align: right;\n",
       "    }\n",
       "</style>\n",
       "<table border=\"1\" class=\"dataframe\">\n",
       "  <thead>\n",
       "    <tr style=\"text-align: right;\">\n",
       "      <th></th>\n",
       "      <th>Pregnancies</th>\n",
       "      <th>Glucose</th>\n",
       "      <th>BloodPressure</th>\n",
       "      <th>SkinThickness</th>\n",
       "      <th>Insulin</th>\n",
       "      <th>BMI</th>\n",
       "      <th>DiabetesPedigreeFunction</th>\n",
       "      <th>Age</th>\n",
       "      <th>Outcome</th>\n",
       "    </tr>\n",
       "  </thead>\n",
       "  <tbody>\n",
       "    <tr>\n",
       "      <th>0</th>\n",
       "      <td>6</td>\n",
       "      <td>148</td>\n",
       "      <td>72</td>\n",
       "      <td>35</td>\n",
       "      <td>0</td>\n",
       "      <td>33.6</td>\n",
       "      <td>0.627</td>\n",
       "      <td>50</td>\n",
       "      <td>1</td>\n",
       "    </tr>\n",
       "    <tr>\n",
       "      <th>1</th>\n",
       "      <td>1</td>\n",
       "      <td>85</td>\n",
       "      <td>66</td>\n",
       "      <td>29</td>\n",
       "      <td>0</td>\n",
       "      <td>26.6</td>\n",
       "      <td>0.351</td>\n",
       "      <td>31</td>\n",
       "      <td>0</td>\n",
       "    </tr>\n",
       "    <tr>\n",
       "      <th>2</th>\n",
       "      <td>8</td>\n",
       "      <td>183</td>\n",
       "      <td>64</td>\n",
       "      <td>0</td>\n",
       "      <td>0</td>\n",
       "      <td>23.3</td>\n",
       "      <td>0.672</td>\n",
       "      <td>32</td>\n",
       "      <td>1</td>\n",
       "    </tr>\n",
       "    <tr>\n",
       "      <th>5</th>\n",
       "      <td>5</td>\n",
       "      <td>116</td>\n",
       "      <td>74</td>\n",
       "      <td>0</td>\n",
       "      <td>0</td>\n",
       "      <td>25.6</td>\n",
       "      <td>0.201</td>\n",
       "      <td>30</td>\n",
       "      <td>0</td>\n",
       "    </tr>\n",
       "    <tr>\n",
       "      <th>7</th>\n",
       "      <td>10</td>\n",
       "      <td>115</td>\n",
       "      <td>0</td>\n",
       "      <td>0</td>\n",
       "      <td>0</td>\n",
       "      <td>35.3</td>\n",
       "      <td>0.134</td>\n",
       "      <td>29</td>\n",
       "      <td>0</td>\n",
       "    </tr>\n",
       "    <tr>\n",
       "      <th>...</th>\n",
       "      <td>...</td>\n",
       "      <td>...</td>\n",
       "      <td>...</td>\n",
       "      <td>...</td>\n",
       "      <td>...</td>\n",
       "      <td>...</td>\n",
       "      <td>...</td>\n",
       "      <td>...</td>\n",
       "      <td>...</td>\n",
       "    </tr>\n",
       "    <tr>\n",
       "      <th>761</th>\n",
       "      <td>9</td>\n",
       "      <td>170</td>\n",
       "      <td>74</td>\n",
       "      <td>31</td>\n",
       "      <td>0</td>\n",
       "      <td>44.0</td>\n",
       "      <td>0.403</td>\n",
       "      <td>43</td>\n",
       "      <td>1</td>\n",
       "    </tr>\n",
       "    <tr>\n",
       "      <th>762</th>\n",
       "      <td>9</td>\n",
       "      <td>89</td>\n",
       "      <td>62</td>\n",
       "      <td>0</td>\n",
       "      <td>0</td>\n",
       "      <td>22.5</td>\n",
       "      <td>0.142</td>\n",
       "      <td>33</td>\n",
       "      <td>0</td>\n",
       "    </tr>\n",
       "    <tr>\n",
       "      <th>764</th>\n",
       "      <td>2</td>\n",
       "      <td>122</td>\n",
       "      <td>70</td>\n",
       "      <td>27</td>\n",
       "      <td>0</td>\n",
       "      <td>36.8</td>\n",
       "      <td>0.340</td>\n",
       "      <td>27</td>\n",
       "      <td>0</td>\n",
       "    </tr>\n",
       "    <tr>\n",
       "      <th>766</th>\n",
       "      <td>1</td>\n",
       "      <td>126</td>\n",
       "      <td>60</td>\n",
       "      <td>0</td>\n",
       "      <td>0</td>\n",
       "      <td>30.1</td>\n",
       "      <td>0.349</td>\n",
       "      <td>47</td>\n",
       "      <td>1</td>\n",
       "    </tr>\n",
       "    <tr>\n",
       "      <th>767</th>\n",
       "      <td>1</td>\n",
       "      <td>93</td>\n",
       "      <td>70</td>\n",
       "      <td>31</td>\n",
       "      <td>0</td>\n",
       "      <td>30.4</td>\n",
       "      <td>0.315</td>\n",
       "      <td>23</td>\n",
       "      <td>0</td>\n",
       "    </tr>\n",
       "  </tbody>\n",
       "</table>\n",
       "<p>376 rows × 9 columns</p>\n",
       "</div>"
      ],
      "text/plain": [
       "     Pregnancies  Glucose  BloodPressure  SkinThickness  Insulin   BMI  \\\n",
       "0              6      148             72             35        0  33.6   \n",
       "1              1       85             66             29        0  26.6   \n",
       "2              8      183             64              0        0  23.3   \n",
       "5              5      116             74              0        0  25.6   \n",
       "7             10      115              0              0        0  35.3   \n",
       "..           ...      ...            ...            ...      ...   ...   \n",
       "761            9      170             74             31        0  44.0   \n",
       "762            9       89             62              0        0  22.5   \n",
       "764            2      122             70             27        0  36.8   \n",
       "766            1      126             60              0        0  30.1   \n",
       "767            1       93             70             31        0  30.4   \n",
       "\n",
       "     DiabetesPedigreeFunction  Age  Outcome  \n",
       "0                       0.627   50        1  \n",
       "1                       0.351   31        0  \n",
       "2                       0.672   32        1  \n",
       "5                       0.201   30        0  \n",
       "7                       0.134   29        0  \n",
       "..                        ...  ...      ...  \n",
       "761                     0.403   43        1  \n",
       "762                     0.142   33        0  \n",
       "764                     0.340   27        0  \n",
       "766                     0.349   47        1  \n",
       "767                     0.315   23        0  \n",
       "\n",
       "[376 rows x 9 columns]"
      ]
     },
     "execution_count": 5,
     "metadata": {},
     "output_type": "execute_result"
    }
   ],
   "source": [
    "df[(df['Glucose']==0) | (df['Insulin']==0) | (df['BloodPressure']==0) | (df['SkinThickness']==0) | (df['BMI']==0)]"
   ]
  },
  {
   "cell_type": "code",
   "execution_count": 6,
   "id": "e120a580-058e-4f76-98cb-22dbe08ddef8",
   "metadata": {},
   "outputs": [],
   "source": [
    "df_cl=df[(df['Glucose']!=0) & (df['Insulin']!=0) & (df['BloodPressure']!=0) & (df['SkinThickness']!=0) & (df['BMI']!=0)]"
   ]
  },
  {
   "cell_type": "code",
   "execution_count": 7,
   "id": "324eb2d6-6775-444b-a955-d3378d96abc2",
   "metadata": {},
   "outputs": [
    {
     "data": {
      "text/plain": [
       "(392, 9)"
      ]
     },
     "execution_count": 7,
     "metadata": {},
     "output_type": "execute_result"
    }
   ],
   "source": [
    "df_cl.shape"
   ]
  },
  {
   "cell_type": "code",
   "execution_count": 8,
   "id": "6d7822bb-e43c-482d-8b93-708e5774d70d",
   "metadata": {},
   "outputs": [
    {
     "data": {
      "image/png": "[encoded data removed]",
      "text/plain": [
       "<Figure size 640x480 with 2 Axes>"
      ]
     },
     "metadata": {},
     "output_type": "display_data"
    }
   ],
   "source": [
    "import seaborn as sns\n",
    "sns.heatmap(df_cl.corr(),annot=True);"
   ]
  },
  {
   "cell_type": "code",
   "execution_count": 9,
   "id": "c40e1e59-3b61-4cf5-be30-712ddde0243b",
   "metadata": {},
   "outputs": [],
   "source": [
    "from statsmodels.stats.outliers_influence import variance_inflation_factor\n",
    "from statsmodels.tools.tools import add_constant"
   ]
  },
  {
   "cell_type": "code",
   "execution_count": 10,
   "id": "9848c65e-c579-476e-8786-5dd3152651f4",
   "metadata": {},
   "outputs": [],
   "source": [
    "x=df_cl.drop('Outcome',axis=1)\n",
    "x_const=add_constant(x)"
   ]
  },
  {
   "cell_type": "code",
   "execution_count": 11,
   "id": "f64931d8-69f9-4e7f-afed-f0e6712e8b0d",
   "metadata": {},
   "outputs": [
    {
     "name": "stdout",
     "output_type": "stream",
     "text": [
      "                   Variable        VIF\n",
      "0                     const  54.437963\n",
      "1               Pregnancies   1.900719\n",
      "2                   Glucose   1.670072\n",
      "3             BloodPressure   1.231815\n",
      "4             SkinThickness   1.852772\n",
      "5                   Insulin   1.556143\n",
      "6                       BMI   1.979596\n",
      "7  DiabetesPedigreeFunction   1.059315\n",
      "8                       Age   2.129433\n"
     ]
    }
   ],
   "source": [
    "vif=pd.DataFrame()\n",
    "vif['Variable']=x_const.columns\n",
    "vif['VIF']=[variance_inflation_factor(x_const.values,i)\n",
    "\n",
    "for i in range(x_const.shape[1])]\n",
    "print(vif)"
   ]
  },
  {
   "cell_type": "code",
   "execution_count": 12,
   "id": "9874a5ea-12f2-483b-a878-4c4cc9e0867e",
   "metadata": {},
   "outputs": [],
   "source": [
    "cols_with_zero=['Glucose','Insulin','BloodPressure','SkinThickness','BMI']"
   ]
  },
  {
   "cell_type": "code",
   "execution_count": 13,
   "id": "7011c8af-5824-4ca4-9117-fada63318254",
   "metadata": {},
   "outputs": [],
   "source": [
    "df[cols_with_zero]=df[cols_with_zero].replace(0,np.nan)"
   ]
  },
  {
   "cell_type": "code",
   "execution_count": 15,
   "id": "53e7a34f-60e9-4338-81a6-1691897aa9aa",
   "metadata": {},
   "outputs": [],
   "source": [
    "df_mean_filled=df.copy()\n",
    "df_mean_filled[cols_with_zero]=df_mean_filled[cols_with_zero].fillna(df_mean_filled[cols_with_zero].mean())"
   ]
  },
  {
   "cell_type": "code",
   "execution_count": 16,
   "id": "d05b8b9b-272d-466b-9a5e-99504130deac",
   "metadata": {},
   "outputs": [],
   "source": [
    "df_median_filled=df.copy()\n",
    "df_median_filled[cols_with_zero]=df_median_filled[cols_with_zero].fillna(df_median_filled[cols_with_zero].median())"
   ]
  },
  {
   "cell_type": "code",
   "execution_count": 17,
   "id": "33a2c265-fb87-4bc4-ae60-da5d6540d3c9",
   "metadata": {},
   "outputs": [
    {
     "data": {
      "image/png": "[encoded data removed]",
      "text/plain": [
       "<Figure size 640x480 with 2 Axes>"
      ]
     },
     "metadata": {},
     "output_type": "display_data"
    }
   ],
   "source": [
    "sns.heatmap(df_mean_filled.corr(),annot=True);"
   ]
  },
  {
   "cell_type": "code",
   "execution_count": 18,
   "id": "ccb00dd5-f2df-40df-9f4b-e253fe17de87",
   "metadata": {},
   "outputs": [
    {
     "data": {
      "image/png": "[encoded data removed]",
      "text/plain": [
       "<Figure size 640x480 with 2 Axes>"
      ]
     },
     "metadata": {},
     "output_type": "display_data"
    }
   ],
   "source": [
    "sns.heatmap(df_median_filled.corr(),annot=True);"
   ]
  },
  {
   "cell_type": "code",
   "execution_count": 19,
   "id": "28b6dc89-8fdc-4572-acd1-ba43f893105c",
   "metadata": {},
   "outputs": [],
   "source": [
    "from sklearn.model_selection import train_test_split,cross_val_score\n",
    "from sklearn.metrics import accuracy_score,f1_score,classification_report"
   ]
  },
  {
   "cell_type": "code",
   "execution_count": 20,
   "id": "9ff504ac-b003-4a67-afef-0a07e77f10ae",
   "metadata": {},
   "outputs": [],
   "source": [
    "x_cl=df_cl.drop('Outcome',axis=1)\n",
    "y_cl=df_cl['Outcome']"
   ]
  },
  {
   "cell_type": "code",
   "execution_count": 21,
   "id": "db1bae05-c901-44b5-8cc7-9320aa05faa9",
   "metadata": {},
   "outputs": [],
   "source": [
    "x_train_cl,x_test_cl,y_train_cl,y_test_cl=train_test_split(x_cl,y_cl,test_size=0.2,random_state=42)"
   ]
  },
  {
   "cell_type": "code",
   "execution_count": 22,
   "id": "1d33db71-7b4e-4d68-8618-dd32b9b04e16",
   "metadata": {},
   "outputs": [],
   "source": [
    "import statsmodels.api as sm"
   ]
  },
  {
   "cell_type": "code",
   "execution_count": 23,
   "id": "ce1e0ffa-7720-4b6f-b464-6e43be2d1f7a",
   "metadata": {},
   "outputs": [
    {
     "name": "stdout",
     "output_type": "stream",
     "text": [
      "Optimization terminated successfully.\n",
      "         Current function value: 0.557027\n",
      "         Iterations 6\n"
     ]
    }
   ],
   "source": [
    "model=sm.Logit(y_train_cl,x_train_cl)\n",
    "model_log=model.fit()"
   ]
  },
  {
   "cell_type": "code",
   "execution_count": 24,
   "id": "e94a0e01-22a6-4d5a-9917-1ef8a1cd1149",
   "metadata": {},
   "outputs": [
    {
     "data": {
      "text/html": [
       "<table class=\"simpletable\">\n",
       "<caption>Logit Regression Results</caption>\n",
       "<tr>\n",
       "  <th>Dep. Variable:</th>        <td>Outcome</td>     <th>  No. Observations:  </th>  <td>   313</td>  \n",
       "</tr>\n",
       "<tr>\n",
       "  <th>Model:</th>                 <td>Logit</td>      <th>  Df Residuals:      </th>  <td>   305</td>  \n",
       "</tr>\n",
       "<tr>\n",
       "  <th>Method:</th>                 <td>MLE</td>       <th>  Df Model:          </th>  <td>     7</td>  \n",
       "</tr>\n",
       "<tr>\n",
       "  <th>Date:</th>            <td>Thu, 28 Aug 2025</td> <th>  Pseudo R-squ.:     </th>  <td>0.1207</td>  \n",
       "</tr>\n",
       "<tr>\n",
       "  <th>Time:</th>                <td>14:31:43</td>     <th>  Log-Likelihood:    </th> <td> -174.35</td> \n",
       "</tr>\n",
       "<tr>\n",
       "  <th>converged:</th>             <td>True</td>       <th>  LL-Null:           </th> <td> -198.29</td> \n",
       "</tr>\n",
       "<tr>\n",
       "  <th>Covariance Type:</th>     <td>nonrobust</td>    <th>  LLR p-value:       </th> <td>3.750e-08</td>\n",
       "</tr>\n",
       "</table>\n",
       "<table class=\"simpletable\">\n",
       "<tr>\n",
       "              <td></td>                <th>coef</th>     <th>std err</th>      <th>z</th>      <th>P>|z|</th>  <th>[0.025</th>    <th>0.975]</th>  \n",
       "</tr>\n",
       "<tr>\n",
       "  <th>Pregnancies</th>              <td>    0.1468</td> <td>    0.056</td> <td>    2.633</td> <td> 0.008</td> <td>    0.038</td> <td>    0.256</td>\n",
       "</tr>\n",
       "<tr>\n",
       "  <th>Glucose</th>                  <td>    0.0161</td> <td>    0.005</td> <td>    3.173</td> <td> 0.002</td> <td>    0.006</td> <td>    0.026</td>\n",
       "</tr>\n",
       "<tr>\n",
       "  <th>BloodPressure</th>            <td>   -0.0412</td> <td>    0.011</td> <td>   -3.871</td> <td> 0.000</td> <td>   -0.062</td> <td>   -0.020</td>\n",
       "</tr>\n",
       "<tr>\n",
       "  <th>SkinThickness</th>            <td>    0.0340</td> <td>    0.017</td> <td>    2.045</td> <td> 0.041</td> <td>    0.001</td> <td>    0.067</td>\n",
       "</tr>\n",
       "<tr>\n",
       "  <th>Insulin</th>                  <td>    0.0031</td> <td>    0.001</td> <td>    2.326</td> <td> 0.020</td> <td>    0.000</td> <td>    0.006</td>\n",
       "</tr>\n",
       "<tr>\n",
       "  <th>BMI</th>                      <td>   -0.0516</td> <td>    0.026</td> <td>   -1.991</td> <td> 0.046</td> <td>   -0.102</td> <td>   -0.001</td>\n",
       "</tr>\n",
       "<tr>\n",
       "  <th>DiabetesPedigreeFunction</th> <td>    0.3893</td> <td>    0.380</td> <td>    1.026</td> <td> 0.305</td> <td>   -0.355</td> <td>    1.133</td>\n",
       "</tr>\n",
       "<tr>\n",
       "  <th>Age</th>                      <td>   -0.0069</td> <td>    0.017</td> <td>   -0.394</td> <td> 0.693</td> <td>   -0.041</td> <td>    0.027</td>\n",
       "</tr>\n",
       "</table>"
      ],
      "text/latex": [
       "\\begin{center}\n",
       "\\begin{tabular}{lclc}\n",
       "\\toprule\n",
       "\\textbf{Dep. Variable:}           &     Outcome      & \\textbf{  No. Observations:  } &      313    \\\\\n",
       "\\textbf{Model:}                   &      Logit       & \\textbf{  Df Residuals:      } &      305    \\\\\n",
       "\\textbf{Method:}                  &       MLE        & \\textbf{  Df Model:          } &        7    \\\\\n",
       "\\textbf{Date:}                    & Thu, 28 Aug 2025 & \\textbf{  Pseudo R-squ.:     } &   0.1207    \\\\\n",
       "\\textbf{Time:}                    &     14:31:43     & \\textbf{  Log-Likelihood:    } &   -174.35   \\\\\n",
       "\\textbf{converged:}               &       True       & \\textbf{  LL-Null:           } &   -198.29   \\\\\n",
       "\\textbf{Covariance Type:}         &    nonrobust     & \\textbf{  LLR p-value:       } & 3.750e-08   \\\\\n",
       "\\bottomrule\n",
       "\\end{tabular}\n",
       "\\begin{tabular}{lcccccc}\n",
       "                                  & \\textbf{coef} & \\textbf{std err} & \\textbf{z} & \\textbf{P$> |$z$|$} & \\textbf{[0.025} & \\textbf{0.975]}  \\\\\n",
       "\\midrule\n",
       "\\textbf{Pregnancies}              &       0.1468  &        0.056     &     2.633  &         0.008        &        0.038    &        0.256     \\\\\n",
       "\\textbf{Glucose}                  &       0.0161  &        0.005     &     3.173  &         0.002        &        0.006    &        0.026     \\\\\n",
       "\\textbf{BloodPressure}            &      -0.0412  &        0.011     &    -3.871  &         0.000        &       -0.062    &       -0.020     \\\\\n",
       "\\textbf{SkinThickness}            &       0.0340  &        0.017     &     2.045  &         0.041        &        0.001    &        0.067     \\\\\n",
       "\\textbf{Insulin}                  &       0.0031  &        0.001     &     2.326  &         0.020        &        0.000    &        0.006     \\\\\n",
       "\\textbf{BMI}                      &      -0.0516  &        0.026     &    -1.991  &         0.046        &       -0.102    &       -0.001     \\\\\n",
       "\\textbf{DiabetesPedigreeFunction} &       0.3893  &        0.380     &     1.026  &         0.305        &       -0.355    &        1.133     \\\\\n",
       "\\textbf{Age}                      &      -0.0069  &        0.017     &    -0.394  &         0.693        &       -0.041    &        0.027     \\\\\n",
       "\\bottomrule\n",
       "\\end{tabular}\n",
       "%\\caption{Logit Regression Results}\n",
       "\\end{center}"
      ],
      "text/plain": [
       "<class 'statsmodels.iolib.summary.Summary'>\n",
       "\"\"\"\n",
       "                           Logit Regression Results                           \n",
       "==============================================================================\n",
       "Dep. Variable:                Outcome   No. Observations:                  313\n",
       "Model:                          Logit   Df Residuals:                      305\n",
       "Method:                           MLE   Df Model:                            7\n",
       "Date:                Thu, 28 Aug 2025   Pseudo R-squ.:                  0.1207\n",
       "Time:                        14:31:43   Log-Likelihood:                -174.35\n",
       "converged:                       True   LL-Null:                       -198.29\n",
       "Covariance Type:            nonrobust   LLR p-value:                 3.750e-08\n",
       "============================================================================================\n",
       "                               coef    std err          z      P>|z|      [0.025      0.975]\n",
       "--------------------------------------------------------------------------------------------\n",
       "Pregnancies                  0.1468      0.056      2.633      0.008       0.038       0.256\n",
       "Glucose                      0.0161      0.005      3.173      0.002       0.006       0.026\n",
       "BloodPressure               -0.0412      0.011     -3.871      0.000      -0.062      -0.020\n",
       "SkinThickness                0.0340      0.017      2.045      0.041       0.001       0.067\n",
       "Insulin                      0.0031      0.001      2.326      0.020       0.000       0.006\n",
       "BMI                         -0.0516      0.026     -1.991      0.046      -0.102      -0.001\n",
       "DiabetesPedigreeFunction     0.3893      0.380      1.026      0.305      -0.355       1.133\n",
       "Age                         -0.0069      0.017     -0.394      0.693      -0.041       0.027\n",
       "============================================================================================\n",
       "\"\"\""
      ]
     },
     "execution_count": 24,
     "metadata": {},
     "output_type": "execute_result"
    }
   ],
   "source": [
    "model_log.summary()"
   ]
  },
  {
   "cell_type": "code",
   "execution_count": 25,
   "id": "2b695391-866b-4717-b5d6-a038f4c8ac11",
   "metadata": {},
   "outputs": [],
   "source": [
    "x_train_cl_r=x_train_cl.drop(['DiabetesPedigreeFunction','Age'],axis=1)\n",
    "x_test_cl_r=x_test_cl.drop(['DiabetesPedigreeFunction','Age'],axis=1)"
   ]
  },
  {
   "cell_type": "code",
   "execution_count": 26,
   "id": "9ef45d12-3d30-4917-b61b-9cf10de29e21",
   "metadata": {},
   "outputs": [],
   "source": [
    "x_mean=df_mean_filled.drop('Outcome',axis=1)\n",
    "y_mean=df_mean_filled['Outcome']"
   ]
  },
  {
   "cell_type": "code",
   "execution_count": 27,
   "id": "dc8578e7-fbc8-47e0-a7b7-ffc4e6e0c481",
   "metadata": {},
   "outputs": [],
   "source": [
    "x_train_mean,x_test_mean,y_train_mean,y_test_mean=train_test_split(x_mean,y_mean,test_size=0.2,random_state=42)"
   ]
  },
  {
   "cell_type": "code",
   "execution_count": 28,
   "id": "fa85358a-2b13-499c-8e0f-d81fa8ca513e",
   "metadata": {},
   "outputs": [
    {
     "name": "stdout",
     "output_type": "stream",
     "text": [
      "Optimization terminated successfully.\n",
      "         Current function value: 0.580891\n",
      "         Iterations 5\n"
     ]
    }
   ],
   "source": [
    "model=sm.Logit(y_train_mean,x_train_mean)\n",
    "model_log=model.fit()"
   ]
  },
  {
   "cell_type": "code",
   "execution_count": 29,
   "id": "28eef0b0-b8d8-4532-a8d2-f2c47d70fe44",
   "metadata": {},
   "outputs": [
    {
     "data": {
      "text/html": [
       "<table class=\"simpletable\">\n",
       "<caption>Logit Regression Results</caption>\n",
       "<tr>\n",
       "  <th>Dep. Variable:</th>        <td>Outcome</td>     <th>  No. Observations:  </th>  <td>   614</td>  \n",
       "</tr>\n",
       "<tr>\n",
       "  <th>Model:</th>                 <td>Logit</td>      <th>  Df Residuals:      </th>  <td>   606</td>  \n",
       "</tr>\n",
       "<tr>\n",
       "  <th>Method:</th>                 <td>MLE</td>       <th>  Df Model:          </th>  <td>     7</td>  \n",
       "</tr>\n",
       "<tr>\n",
       "  <th>Date:</th>            <td>Thu, 28 Aug 2025</td> <th>  Pseudo R-squ.:     </th>  <td>0.1001</td>  \n",
       "</tr>\n",
       "<tr>\n",
       "  <th>Time:</th>                <td>14:31:44</td>     <th>  Log-Likelihood:    </th> <td> -356.67</td> \n",
       "</tr>\n",
       "<tr>\n",
       "  <th>converged:</th>             <td>True</td>       <th>  LL-Null:           </th> <td> -396.34</td> \n",
       "</tr>\n",
       "<tr>\n",
       "  <th>Covariance Type:</th>     <td>nonrobust</td>    <th>  LLR p-value:       </th> <td>1.867e-14</td>\n",
       "</tr>\n",
       "</table>\n",
       "<table class=\"simpletable\">\n",
       "<tr>\n",
       "              <td></td>                <th>coef</th>     <th>std err</th>      <th>z</th>      <th>P>|z|</th>  <th>[0.025</th>    <th>0.975]</th>  \n",
       "</tr>\n",
       "<tr>\n",
       "  <th>Pregnancies</th>              <td>    0.0882</td> <td>    0.033</td> <td>    2.678</td> <td> 0.007</td> <td>    0.024</td> <td>    0.153</td>\n",
       "</tr>\n",
       "<tr>\n",
       "  <th>Glucose</th>                  <td>    0.0198</td> <td>    0.004</td> <td>    5.656</td> <td> 0.000</td> <td>    0.013</td> <td>    0.027</td>\n",
       "</tr>\n",
       "<tr>\n",
       "  <th>BloodPressure</th>            <td>   -0.0630</td> <td>    0.008</td> <td>   -7.906</td> <td> 0.000</td> <td>   -0.079</td> <td>   -0.047</td>\n",
       "</tr>\n",
       "<tr>\n",
       "  <th>SkinThickness</th>            <td>   -0.0101</td> <td>    0.013</td> <td>   -0.755</td> <td> 0.450</td> <td>   -0.036</td> <td>    0.016</td>\n",
       "</tr>\n",
       "<tr>\n",
       "  <th>Insulin</th>                  <td>   -0.0003</td> <td>    0.001</td> <td>   -0.235</td> <td> 0.815</td> <td>   -0.003</td> <td>    0.002</td>\n",
       "</tr>\n",
       "<tr>\n",
       "  <th>BMI</th>                      <td>    0.0288</td> <td>    0.017</td> <td>    1.704</td> <td> 0.088</td> <td>   -0.004</td> <td>    0.062</td>\n",
       "</tr>\n",
       "<tr>\n",
       "  <th>DiabetesPedigreeFunction</th> <td>    0.2409</td> <td>    0.271</td> <td>    0.887</td> <td> 0.375</td> <td>   -0.291</td> <td>    0.773</td>\n",
       "</tr>\n",
       "<tr>\n",
       "  <th>Age</th>                      <td>    0.0154</td> <td>    0.010</td> <td>    1.528</td> <td> 0.127</td> <td>   -0.004</td> <td>    0.035</td>\n",
       "</tr>\n",
       "</table>"
      ],
      "text/latex": [
       "\\begin{center}\n",
       "\\begin{tabular}{lclc}\n",
       "\\toprule\n",
       "\\textbf{Dep. Variable:}           &     Outcome      & \\textbf{  No. Observations:  } &      614    \\\\\n",
       "\\textbf{Model:}                   &      Logit       & \\textbf{  Df Residuals:      } &      606    \\\\\n",
       "\\textbf{Method:}                  &       MLE        & \\textbf{  Df Model:          } &        7    \\\\\n",
       "\\textbf{Date:}                    & Thu, 28 Aug 2025 & \\textbf{  Pseudo R-squ.:     } &   0.1001    \\\\\n",
       "\\textbf{Time:}                    &     14:31:44     & \\textbf{  Log-Likelihood:    } &   -356.67   \\\\\n",
       "\\textbf{converged:}               &       True       & \\textbf{  LL-Null:           } &   -396.34   \\\\\n",
       "\\textbf{Covariance Type:}         &    nonrobust     & \\textbf{  LLR p-value:       } & 1.867e-14   \\\\\n",
       "\\bottomrule\n",
       "\\end{tabular}\n",
       "\\begin{tabular}{lcccccc}\n",
       "                                  & \\textbf{coef} & \\textbf{std err} & \\textbf{z} & \\textbf{P$> |$z$|$} & \\textbf{[0.025} & \\textbf{0.975]}  \\\\\n",
       "\\midrule\n",
       "\\textbf{Pregnancies}              &       0.0882  &        0.033     &     2.678  &         0.007        &        0.024    &        0.153     \\\\\n",
       "\\textbf{Glucose}                  &       0.0198  &        0.004     &     5.656  &         0.000        &        0.013    &        0.027     \\\\\n",
       "\\textbf{BloodPressure}            &      -0.0630  &        0.008     &    -7.906  &         0.000        &       -0.079    &       -0.047     \\\\\n",
       "\\textbf{SkinThickness}            &      -0.0101  &        0.013     &    -0.755  &         0.450        &       -0.036    &        0.016     \\\\\n",
       "\\textbf{Insulin}                  &      -0.0003  &        0.001     &    -0.235  &         0.815        &       -0.003    &        0.002     \\\\\n",
       "\\textbf{BMI}                      &       0.0288  &        0.017     &     1.704  &         0.088        &       -0.004    &        0.062     \\\\\n",
       "\\textbf{DiabetesPedigreeFunction} &       0.2409  &        0.271     &     0.887  &         0.375        &       -0.291    &        0.773     \\\\\n",
       "\\textbf{Age}                      &       0.0154  &        0.010     &     1.528  &         0.127        &       -0.004    &        0.035     \\\\\n",
       "\\bottomrule\n",
       "\\end{tabular}\n",
       "%\\caption{Logit Regression Results}\n",
       "\\end{center}"
      ],
      "text/plain": [
       "<class 'statsmodels.iolib.summary.Summary'>\n",
       "\"\"\"\n",
       "                           Logit Regression Results                           \n",
       "==============================================================================\n",
       "Dep. Variable:                Outcome   No. Observations:                  614\n",
       "Model:                          Logit   Df Residuals:                      606\n",
       "Method:                           MLE   Df Model:                            7\n",
       "Date:                Thu, 28 Aug 2025   Pseudo R-squ.:                  0.1001\n",
       "Time:                        14:31:44   Log-Likelihood:                -356.67\n",
       "converged:                       True   LL-Null:                       -396.34\n",
       "Covariance Type:            nonrobust   LLR p-value:                 1.867e-14\n",
       "============================================================================================\n",
       "                               coef    std err          z      P>|z|      [0.025      0.975]\n",
       "--------------------------------------------------------------------------------------------\n",
       "Pregnancies                  0.0882      0.033      2.678      0.007       0.024       0.153\n",
       "Glucose                      0.0198      0.004      5.656      0.000       0.013       0.027\n",
       "BloodPressure               -0.0630      0.008     -7.906      0.000      -0.079      -0.047\n",
       "SkinThickness               -0.0101      0.013     -0.755      0.450      -0.036       0.016\n",
       "Insulin                     -0.0003      0.001     -0.235      0.815      -0.003       0.002\n",
       "BMI                          0.0288      0.017      1.704      0.088      -0.004       0.062\n",
       "DiabetesPedigreeFunction     0.2409      0.271      0.887      0.375      -0.291       0.773\n",
       "Age                          0.0154      0.010      1.528      0.127      -0.004       0.035\n",
       "============================================================================================\n",
       "\"\"\""
      ]
     },
     "execution_count": 29,
     "metadata": {},
     "output_type": "execute_result"
    }
   ],
   "source": [
    "model_log.summary()"
   ]
  },
  {
   "cell_type": "code",
   "execution_count": 30,
   "id": "ebd4e07c-d4d3-447f-97f2-77c779f2bdf6",
   "metadata": {},
   "outputs": [],
   "source": [
    "x_train_mean_r=x_train_mean[['Pregnancies','Glucose','BloodPressure']]\n",
    "x_test_mean_r=x_test_mean[['Pregnancies','Glucose','BloodPressure']]"
   ]
  },
  {
   "cell_type": "code",
   "execution_count": 31,
   "id": "55f9872e-da3e-4ac4-a490-72011d319a34",
   "metadata": {},
   "outputs": [],
   "source": [
    "x_median=df_median_filled.drop('Outcome',axis=1)\n",
    "y_median=df_median_filled['Outcome']"
   ]
  },
  {
   "cell_type": "code",
   "execution_count": 32,
   "id": "5a632f40-29c3-43e1-b252-0729bd30daf5",
   "metadata": {},
   "outputs": [],
   "source": [
    "x_train_median,x_test_median,y_train_median,y_test_median=train_test_split(x_median,y_median,test_size=0.2,random_state=42)"
   ]
  },
  {
   "cell_type": "code",
   "execution_count": 33,
   "id": "307483eb-2abf-4366-a8df-d3fefccabb4b",
   "metadata": {},
   "outputs": [
    {
     "name": "stdout",
     "output_type": "stream",
     "text": [
      "Optimization terminated successfully.\n",
      "         Current function value: 0.580669\n",
      "         Iterations 5\n"
     ]
    }
   ],
   "source": [
    "model=sm.Logit(y_train_median,x_train_median)\n",
    "model_log=model.fit()"
   ]
  },
  {
   "cell_type": "code",
   "execution_count": 34,
   "id": "dddab3e6-5751-4d88-b1fb-e945e430411c",
   "metadata": {},
   "outputs": [
    {
     "data": {
      "text/html": [
       "<table class=\"simpletable\">\n",
       "<caption>Logit Regression Results</caption>\n",
       "<tr>\n",
       "  <th>Dep. Variable:</th>        <td>Outcome</td>     <th>  No. Observations:  </th>  <td>   614</td>  \n",
       "</tr>\n",
       "<tr>\n",
       "  <th>Model:</th>                 <td>Logit</td>      <th>  Df Residuals:      </th>  <td>   606</td>  \n",
       "</tr>\n",
       "<tr>\n",
       "  <th>Method:</th>                 <td>MLE</td>       <th>  Df Model:          </th>  <td>     7</td>  \n",
       "</tr>\n",
       "<tr>\n",
       "  <th>Date:</th>            <td>Thu, 28 Aug 2025</td> <th>  Pseudo R-squ.:     </th>  <td>0.1004</td>  \n",
       "</tr>\n",
       "<tr>\n",
       "  <th>Time:</th>                <td>14:31:47</td>     <th>  Log-Likelihood:    </th> <td> -356.53</td> \n",
       "</tr>\n",
       "<tr>\n",
       "  <th>converged:</th>             <td>True</td>       <th>  LL-Null:           </th> <td> -396.34</td> \n",
       "</tr>\n",
       "<tr>\n",
       "  <th>Covariance Type:</th>     <td>nonrobust</td>    <th>  LLR p-value:       </th> <td>1.643e-14</td>\n",
       "</tr>\n",
       "</table>\n",
       "<table class=\"simpletable\">\n",
       "<tr>\n",
       "              <td></td>                <th>coef</th>     <th>std err</th>      <th>z</th>      <th>P>|z|</th>  <th>[0.025</th>    <th>0.975]</th>  \n",
       "</tr>\n",
       "<tr>\n",
       "  <th>Pregnancies</th>              <td>    0.0881</td> <td>    0.033</td> <td>    2.672</td> <td> 0.008</td> <td>    0.023</td> <td>    0.153</td>\n",
       "</tr>\n",
       "<tr>\n",
       "  <th>Glucose</th>                  <td>    0.0201</td> <td>    0.004</td> <td>    5.705</td> <td> 0.000</td> <td>    0.013</td> <td>    0.027</td>\n",
       "</tr>\n",
       "<tr>\n",
       "  <th>BloodPressure</th>            <td>   -0.0633</td> <td>    0.008</td> <td>   -7.919</td> <td> 0.000</td> <td>   -0.079</td> <td>   -0.048</td>\n",
       "</tr>\n",
       "<tr>\n",
       "  <th>SkinThickness</th>            <td>   -0.0101</td> <td>    0.013</td> <td>   -0.755</td> <td> 0.450</td> <td>   -0.036</td> <td>    0.016</td>\n",
       "</tr>\n",
       "<tr>\n",
       "  <th>Insulin</th>                  <td>   -0.0005</td> <td>    0.001</td> <td>   -0.442</td> <td> 0.658</td> <td>   -0.003</td> <td>    0.002</td>\n",
       "</tr>\n",
       "<tr>\n",
       "  <th>BMI</th>                      <td>    0.0292</td> <td>    0.017</td> <td>    1.729</td> <td> 0.084</td> <td>   -0.004</td> <td>    0.062</td>\n",
       "</tr>\n",
       "<tr>\n",
       "  <th>DiabetesPedigreeFunction</th> <td>    0.2446</td> <td>    0.272</td> <td>    0.900</td> <td> 0.368</td> <td>   -0.288</td> <td>    0.777</td>\n",
       "</tr>\n",
       "<tr>\n",
       "  <th>Age</th>                      <td>    0.0154</td> <td>    0.010</td> <td>    1.525</td> <td> 0.127</td> <td>   -0.004</td> <td>    0.035</td>\n",
       "</tr>\n",
       "</table>"
      ],
      "text/latex": [
       "\\begin{center}\n",
       "\\begin{tabular}{lclc}\n",
       "\\toprule\n",
       "\\textbf{Dep. Variable:}           &     Outcome      & \\textbf{  No. Observations:  } &      614    \\\\\n",
       "\\textbf{Model:}                   &      Logit       & \\textbf{  Df Residuals:      } &      606    \\\\\n",
       "\\textbf{Method:}                  &       MLE        & \\textbf{  Df Model:          } &        7    \\\\\n",
       "\\textbf{Date:}                    & Thu, 28 Aug 2025 & \\textbf{  Pseudo R-squ.:     } &   0.1004    \\\\\n",
       "\\textbf{Time:}                    &     14:31:47     & \\textbf{  Log-Likelihood:    } &   -356.53   \\\\\n",
       "\\textbf{converged:}               &       True       & \\textbf{  LL-Null:           } &   -396.34   \\\\\n",
       "\\textbf{Covariance Type:}         &    nonrobust     & \\textbf{  LLR p-value:       } & 1.643e-14   \\\\\n",
       "\\bottomrule\n",
       "\\end{tabular}\n",
       "\\begin{tabular}{lcccccc}\n",
       "                                  & \\textbf{coef} & \\textbf{std err} & \\textbf{z} & \\textbf{P$> |$z$|$} & \\textbf{[0.025} & \\textbf{0.975]}  \\\\\n",
       "\\midrule\n",
       "\\textbf{Pregnancies}              &       0.0881  &        0.033     &     2.672  &         0.008        &        0.023    &        0.153     \\\\\n",
       "\\textbf{Glucose}                  &       0.0201  &        0.004     &     5.705  &         0.000        &        0.013    &        0.027     \\\\\n",
       "\\textbf{BloodPressure}            &      -0.0633  &        0.008     &    -7.919  &         0.000        &       -0.079    &       -0.048     \\\\\n",
       "\\textbf{SkinThickness}            &      -0.0101  &        0.013     &    -0.755  &         0.450        &       -0.036    &        0.016     \\\\\n",
       "\\textbf{Insulin}                  &      -0.0005  &        0.001     &    -0.442  &         0.658        &       -0.003    &        0.002     \\\\\n",
       "\\textbf{BMI}                      &       0.0292  &        0.017     &     1.729  &         0.084        &       -0.004    &        0.062     \\\\\n",
       "\\textbf{DiabetesPedigreeFunction} &       0.2446  &        0.272     &     0.900  &         0.368        &       -0.288    &        0.777     \\\\\n",
       "\\textbf{Age}                      &       0.0154  &        0.010     &     1.525  &         0.127        &       -0.004    &        0.035     \\\\\n",
       "\\bottomrule\n",
       "\\end{tabular}\n",
       "%\\caption{Logit Regression Results}\n",
       "\\end{center}"
      ],
      "text/plain": [
       "<class 'statsmodels.iolib.summary.Summary'>\n",
       "\"\"\"\n",
       "                           Logit Regression Results                           \n",
       "==============================================================================\n",
       "Dep. Variable:                Outcome   No. Observations:                  614\n",
       "Model:                          Logit   Df Residuals:                      606\n",
       "Method:                           MLE   Df Model:                            7\n",
       "Date:                Thu, 28 Aug 2025   Pseudo R-squ.:                  0.1004\n",
       "Time:                        14:31:47   Log-Likelihood:                -356.53\n",
       "converged:                       True   LL-Null:                       -396.34\n",
       "Covariance Type:            nonrobust   LLR p-value:                 1.643e-14\n",
       "============================================================================================\n",
       "                               coef    std err          z      P>|z|      [0.025      0.975]\n",
       "--------------------------------------------------------------------------------------------\n",
       "Pregnancies                  0.0881      0.033      2.672      0.008       0.023       0.153\n",
       "Glucose                      0.0201      0.004      5.705      0.000       0.013       0.027\n",
       "BloodPressure               -0.0633      0.008     -7.919      0.000      -0.079      -0.048\n",
       "SkinThickness               -0.0101      0.013     -0.755      0.450      -0.036       0.016\n",
       "Insulin                     -0.0005      0.001     -0.442      0.658      -0.003       0.002\n",
       "BMI                          0.0292      0.017      1.729      0.084      -0.004       0.062\n",
       "DiabetesPedigreeFunction     0.2446      0.272      0.900      0.368      -0.288       0.777\n",
       "Age                          0.0154      0.010      1.525      0.127      -0.004       0.035\n",
       "============================================================================================\n",
       "\"\"\""
      ]
     },
     "execution_count": 34,
     "metadata": {},
     "output_type": "execute_result"
    }
   ],
   "source": [
    "model_log.summary()"
   ]
  },
  {
   "cell_type": "code",
   "execution_count": 35,
   "id": "fb158f84-ddec-4e5a-803b-df6497eb1d88",
   "metadata": {},
   "outputs": [],
   "source": [
    "x_train_median_r=x_train_median[['Pregnancies','Glucose','BloodPressure']]\n",
    "x_test_median_r=x_test_median[['Pregnancies','Glucose','BloodPressure']]"
   ]
  },
  {
   "cell_type": "code",
   "execution_count": 36,
   "id": "8aa5d92f-5a5f-41dc-ad90-a096563accee",
   "metadata": {},
   "outputs": [],
   "source": [
    "from sklearn.linear_model import LogisticRegression"
   ]
  },
  {
   "cell_type": "code",
   "execution_count": 37,
   "id": "f6033def-a3f6-42f6-b187-b7ac1d68082e",
   "metadata": {},
   "outputs": [],
   "source": [
    "log_model_cl=LogisticRegression(solver='liblinear').fit(x_train_cl,y_train_cl)"
   ]
  },
  {
   "cell_type": "code",
   "execution_count": 38,
   "id": "0950bf7a-4a36-4740-8df4-02e1953ab6ae",
   "metadata": {},
   "outputs": [],
   "source": [
    "log_train_cl_acc=accuracy_score(y_train_cl,log_model_cl.predict(x_train_cl))"
   ]
  },
  {
   "cell_type": "code",
   "execution_count": 39,
   "id": "2c394442-4662-4a2e-8e6b-552cfb10032b",
   "metadata": {},
   "outputs": [
    {
     "data": {
      "text/plain": [
       "0.7859424920127795"
      ]
     },
     "execution_count": 39,
     "metadata": {},
     "output_type": "execute_result"
    }
   ],
   "source": [
    "log_train_cl_acc"
   ]
  },
  {
   "cell_type": "code",
   "execution_count": 40,
   "id": "9064a885-63d7-4c74-ba5f-0615bd522289",
   "metadata": {},
   "outputs": [],
   "source": [
    "log_test_cl_acc=accuracy_score(y_test_cl,log_model_cl.predict(x_test_cl))"
   ]
  },
  {
   "cell_type": "code",
   "execution_count": 41,
   "id": "14203ebb-1f4a-481e-981f-da6a9e538eb8",
   "metadata": {},
   "outputs": [
    {
     "data": {
      "text/plain": [
       "0.7468354430379747"
      ]
     },
     "execution_count": 41,
     "metadata": {},
     "output_type": "execute_result"
    }
   ],
   "source": [
    "log_test_cl_acc"
   ]
  },
  {
   "cell_type": "code",
   "execution_count": 42,
   "id": "1416c0cb-b7e9-4786-b010-3904ac8e0a90",
   "metadata": {},
   "outputs": [],
   "source": [
    "log_train_cl_acc_cv=cross_val_score(log_model_cl,x_train_cl,y_train_cl,cv=10).mean()"
   ]
  },
  {
   "cell_type": "code",
   "execution_count": 43,
   "id": "1323e2e5-0e47-466c-b57a-6596b2582679",
   "metadata": {},
   "outputs": [
    {
     "data": {
      "text/plain": [
       "0.7704637096774193"
      ]
     },
     "execution_count": 43,
     "metadata": {},
     "output_type": "execute_result"
    }
   ],
   "source": [
    "log_train_cl_acc_cv"
   ]
  },
  {
   "cell_type": "code",
   "execution_count": 44,
   "id": "0a331cf2-3eb9-42ca-85a9-d2767d609b32",
   "metadata": {},
   "outputs": [],
   "source": [
    "log_test_cl_acc_cv=cross_val_score(log_model_cl,x_test_cl,y_test_cl,cv=10).mean()"
   ]
  },
  {
   "cell_type": "code",
   "execution_count": 45,
   "id": "e9a02c1d-dd65-49ef-85be-b3a9278fc879",
   "metadata": {},
   "outputs": [
    {
     "data": {
      "text/plain": [
       "0.6571428571428571"
      ]
     },
     "execution_count": 45,
     "metadata": {},
     "output_type": "execute_result"
    }
   ],
   "source": [
    "log_test_cl_acc_cv"
   ]
  },
  {
   "cell_type": "code",
   "execution_count": 46,
   "id": "a03c05ef-b59f-4b0f-ac9b-1397901057af",
   "metadata": {},
   "outputs": [
    {
     "name": "stdout",
     "output_type": "stream",
     "text": [
      "              precision    recall  f1-score   support\n",
      "\n",
      "           0       0.77      0.88      0.82        52\n",
      "           1       0.68      0.48      0.57        27\n",
      "\n",
      "    accuracy                           0.75        79\n",
      "   macro avg       0.73      0.68      0.69        79\n",
      "weighted avg       0.74      0.75      0.73        79\n",
      "\n"
     ]
    }
   ],
   "source": [
    "print(classification_report(y_test_cl,log_model_cl.predict(x_test_cl)))"
   ]
  },
  {
   "cell_type": "code",
   "execution_count": 47,
   "id": "5ef5c0a0-e479-4640-88c1-7f546380cb6b",
   "metadata": {},
   "outputs": [],
   "source": [
    "log_model_cl_r=LogisticRegression(solver='liblinear').fit(x_train_cl_r,y_train_cl)"
   ]
  },
  {
   "cell_type": "code",
   "execution_count": 48,
   "id": "3bd1c405-4eb6-49c9-93be-dce462e1d8cf",
   "metadata": {},
   "outputs": [],
   "source": [
    "log_train_cl_r_acc=accuracy_score(y_train_cl,log_model_cl_r.predict(x_train_cl_r))"
   ]
  },
  {
   "cell_type": "code",
   "execution_count": 49,
   "id": "c62fd29a-9634-4e1b-950a-0b665d3529d4",
   "metadata": {},
   "outputs": [
    {
     "data": {
      "text/plain": [
       "0.7699680511182109"
      ]
     },
     "execution_count": 49,
     "metadata": {},
     "output_type": "execute_result"
    }
   ],
   "source": [
    "log_train_cl_r_acc"
   ]
  },
  {
   "cell_type": "code",
   "execution_count": 50,
   "id": "3dc41608-8f5d-4ed3-a10c-869a53c3e2ee",
   "metadata": {},
   "outputs": [],
   "source": [
    "log_test_cl_r_acc=accuracy_score(y_test_cl,log_model_cl_r.predict(x_test_cl_r))"
   ]
  },
  {
   "cell_type": "code",
   "execution_count": 51,
   "id": "0812a08f-567a-49cd-846e-597180ef5900",
   "metadata": {},
   "outputs": [
    {
     "data": {
      "text/plain": [
       "0.7341772151898734"
      ]
     },
     "execution_count": 51,
     "metadata": {},
     "output_type": "execute_result"
    }
   ],
   "source": [
    "log_test_cl_r_acc"
   ]
  },
  {
   "cell_type": "code",
   "execution_count": 52,
   "id": "a2755b9e-e877-4daf-bcaf-d467cb2a0f38",
   "metadata": {},
   "outputs": [],
   "source": [
    "log_train_cl_r_acc_cv=cross_val_score(log_model_cl_r,x_train_cl_r,y_train_cl,cv=10).mean()"
   ]
  },
  {
   "cell_type": "code",
   "execution_count": 53,
   "id": "dd4de201-f392-4564-92d3-46166516f03d",
   "metadata": {},
   "outputs": [
    {
     "data": {
      "text/plain": [
       "0.7640120967741936"
      ]
     },
     "execution_count": 53,
     "metadata": {},
     "output_type": "execute_result"
    }
   ],
   "source": [
    "log_train_cl_r_acc_cv"
   ]
  },
  {
   "cell_type": "code",
   "execution_count": 54,
   "id": "3b0252d3-bf41-484d-a470-367c7b20d203",
   "metadata": {},
   "outputs": [],
   "source": [
    "log_test_cl_r_acc_cv=cross_val_score(log_model_cl_r,x_test_cl_r,y_test_cl,cv=10).mean()"
   ]
  },
  {
   "cell_type": "code",
   "execution_count": 55,
   "id": "bb9384c7-a5d0-4d44-a02d-c6f77472b443",
   "metadata": {},
   "outputs": [
    {
     "data": {
      "text/plain": [
       "0.6321428571428571"
      ]
     },
     "execution_count": 55,
     "metadata": {},
     "output_type": "execute_result"
    }
   ],
   "source": [
    "log_test_cl_r_acc_cv"
   ]
  },
  {
   "cell_type": "code",
   "execution_count": 56,
   "id": "100c1e93-235d-475e-a071-c1eb7636fa67",
   "metadata": {},
   "outputs": [
    {
     "name": "stdout",
     "output_type": "stream",
     "text": [
      "              precision    recall  f1-score   support\n",
      "\n",
      "           0       0.76      0.87      0.81        52\n",
      "           1       0.65      0.48      0.55        27\n",
      "\n",
      "    accuracy                           0.73        79\n",
      "   macro avg       0.71      0.67      0.68        79\n",
      "weighted avg       0.72      0.73      0.72        79\n",
      "\n"
     ]
    }
   ],
   "source": [
    "print(classification_report(y_test_cl,log_model_cl_r.predict(x_test_cl_r)))"
   ]
  },
  {
   "cell_type": "code",
   "execution_count": 57,
   "id": "708be078-407b-4dcd-a1d0-ffb8a54e4213",
   "metadata": {},
   "outputs": [],
   "source": [
    "log_model_mean=LogisticRegression(solver='liblinear').fit(x_train_mean,y_train_mean)"
   ]
  },
  {
   "cell_type": "code",
   "execution_count": 58,
   "id": "09698df5-85df-4d0e-9ee3-f063374b0db2",
   "metadata": {},
   "outputs": [],
   "source": [
    "log_train_mean_acc=accuracy_score(y_train_mean,log_model_mean.predict(x_train_mean))"
   ]
  },
  {
   "cell_type": "code",
   "execution_count": 59,
   "id": "175cca56-14d4-4ebf-87b3-9a7087e560f2",
   "metadata": {},
   "outputs": [
    {
     "data": {
      "text/plain": [
       "0.7638436482084691"
      ]
     },
     "execution_count": 59,
     "metadata": {},
     "output_type": "execute_result"
    }
   ],
   "source": [
    "log_train_mean_acc"
   ]
  },
  {
   "cell_type": "code",
   "execution_count": 60,
   "id": "163fee20-8d0c-4545-99ba-7e5b0447c32b",
   "metadata": {},
   "outputs": [],
   "source": [
    "log_test_mean_acc=accuracy_score(y_test_mean,log_model_mean.predict(x_test_mean))"
   ]
  },
  {
   "cell_type": "code",
   "execution_count": 61,
   "id": "f1010f47-fb7d-41ff-ba37-71c3b5806347",
   "metadata": {},
   "outputs": [
    {
     "data": {
      "text/plain": [
       "0.7857142857142857"
      ]
     },
     "execution_count": 61,
     "metadata": {},
     "output_type": "execute_result"
    }
   ],
   "source": [
    "log_test_mean_acc"
   ]
  },
  {
   "cell_type": "code",
   "execution_count": 62,
   "id": "ae661254-fa0f-4e79-a52d-779b455e940d",
   "metadata": {},
   "outputs": [],
   "source": [
    "log_train_mean_acc_cv=cross_val_score(log_model_mean,x_train_mean,y_train_mean,cv=10).mean()"
   ]
  },
  {
   "cell_type": "code",
   "execution_count": 63,
   "id": "d3335168-6021-482d-9967-5c8ca0bd74b5",
   "metadata": {},
   "outputs": [
    {
     "data": {
      "text/plain": [
       "0.7540190375462719"
      ]
     },
     "execution_count": 63,
     "metadata": {},
     "output_type": "execute_result"
    }
   ],
   "source": [
    "log_train_mean_acc_cv"
   ]
  },
  {
   "cell_type": "code",
   "execution_count": 64,
   "id": "3b0913ce-9af5-413d-85cc-0a65fa5ec57d",
   "metadata": {},
   "outputs": [],
   "source": [
    "log_test_mean_acc_cv=cross_val_score(log_model_mean,x_test_mean,y_test_mean,cv=10).mean()"
   ]
  },
  {
   "cell_type": "code",
   "execution_count": 65,
   "id": "7887eef7-0112-4a0a-a4d1-b89452331dd4",
   "metadata": {},
   "outputs": [
    {
     "data": {
      "text/plain": [
       "0.7658333333333334"
      ]
     },
     "execution_count": 65,
     "metadata": {},
     "output_type": "execute_result"
    }
   ],
   "source": [
    "log_test_mean_acc_cv"
   ]
  },
  {
   "cell_type": "code",
   "execution_count": 66,
   "id": "4cf9b212-1989-47c2-abb6-77a3c6e7d82c",
   "metadata": {},
   "outputs": [
    {
     "name": "stdout",
     "output_type": "stream",
     "text": [
      "              precision    recall  f1-score   support\n",
      "\n",
      "           0       0.80      0.89      0.84        99\n",
      "           1       0.75      0.60      0.67        55\n",
      "\n",
      "    accuracy                           0.79       154\n",
      "   macro avg       0.78      0.74      0.75       154\n",
      "weighted avg       0.78      0.79      0.78       154\n",
      "\n"
     ]
    }
   ],
   "source": [
    "print(classification_report(y_test_mean,log_model_mean.predict(x_test_mean)))"
   ]
  },
  {
   "cell_type": "code",
   "execution_count": 67,
   "id": "f53c647c-56b3-49cb-9fe7-947b9e47658f",
   "metadata": {},
   "outputs": [],
   "source": [
    "log_model_mean_r=LogisticRegression(solver='liblinear').fit(x_train_mean_r,y_train_mean)"
   ]
  },
  {
   "cell_type": "code",
   "execution_count": 68,
   "id": "1167aee5-4fe7-487d-bfc8-bf4f760e1220",
   "metadata": {},
   "outputs": [],
   "source": [
    "log_train_mean_r_acc=accuracy_score(y_train_mean,log_model_mean_r.predict(x_train_mean_r))"
   ]
  },
  {
   "cell_type": "code",
   "execution_count": 69,
   "id": "37a0faac-60ef-477e-b5b0-fcf25787c6ec",
   "metadata": {},
   "outputs": [
    {
     "data": {
      "text/plain": [
       "0.741042345276873"
      ]
     },
     "execution_count": 69,
     "metadata": {},
     "output_type": "execute_result"
    }
   ],
   "source": [
    "log_train_mean_r_acc"
   ]
  },
  {
   "cell_type": "code",
   "execution_count": 70,
   "id": "c3823085-75f1-4730-8f9e-2760e2716147",
   "metadata": {},
   "outputs": [],
   "source": [
    "log_test_mean_r_acc=accuracy_score(y_test_mean,log_model_mean_r.predict(x_test_mean_r))"
   ]
  },
  {
   "cell_type": "code",
   "execution_count": 71,
   "id": "183796c4-b92f-42db-9837-14c37ef50237",
   "metadata": {},
   "outputs": [
    {
     "data": {
      "text/plain": [
       "0.7792207792207793"
      ]
     },
     "execution_count": 71,
     "metadata": {},
     "output_type": "execute_result"
    }
   ],
   "source": [
    "log_test_mean_r_acc"
   ]
  },
  {
   "cell_type": "code",
   "execution_count": 72,
   "id": "8b003b6f-486a-4b18-b875-709128fa4539",
   "metadata": {},
   "outputs": [],
   "source": [
    "log_train_mean_r_acc_cv=cross_val_score(log_model_mean_r,x_train_mean_r,y_train_mean,cv=10).mean()"
   ]
  },
  {
   "cell_type": "code",
   "execution_count": 73,
   "id": "ba250754-7f5e-4eda-913e-8dc4fcfa8935",
   "metadata": {},
   "outputs": [
    {
     "data": {
      "text/plain": [
       "0.7361713379164463"
      ]
     },
     "execution_count": 73,
     "metadata": {},
     "output_type": "execute_result"
    }
   ],
   "source": [
    "log_train_mean_r_acc_cv"
   ]
  },
  {
   "cell_type": "code",
   "execution_count": 74,
   "id": "fea6d0b2-2c24-4f42-8d77-57afd492b12f",
   "metadata": {},
   "outputs": [],
   "source": [
    "log_test_mean_r_acc_cv=cross_val_score(log_model_mean_r,x_test_mean_r,y_test_mean,cv=10).mean()"
   ]
  },
  {
   "cell_type": "code",
   "execution_count": 75,
   "id": "fd581383-c2a0-4510-8dca-d32af11305f0",
   "metadata": {},
   "outputs": [
    {
     "data": {
      "text/plain": [
       "0.7545833333333334"
      ]
     },
     "execution_count": 75,
     "metadata": {},
     "output_type": "execute_result"
    }
   ],
   "source": [
    "log_test_mean_r_acc_cv"
   ]
  },
  {
   "cell_type": "code",
   "execution_count": 76,
   "id": "de9415ef-3e76-446d-aa50-a694dcf6c887",
   "metadata": {},
   "outputs": [
    {
     "name": "stdout",
     "output_type": "stream",
     "text": [
      "              precision    recall  f1-score   support\n",
      "\n",
      "           0       0.80      0.88      0.84        99\n",
      "           1       0.73      0.60      0.66        55\n",
      "\n",
      "    accuracy                           0.78       154\n",
      "   macro avg       0.77      0.74      0.75       154\n",
      "weighted avg       0.78      0.78      0.77       154\n",
      "\n"
     ]
    }
   ],
   "source": [
    "print(classification_report(y_test_mean,log_model_mean_r.predict(x_test_mean_r)))"
   ]
  },
  {
   "cell_type": "code",
   "execution_count": 77,
   "id": "9bb43478-6cc2-4fdd-a595-f7266bebf805",
   "metadata": {},
   "outputs": [],
   "source": [
    "log_model_median=LogisticRegression(solver='liblinear').fit(x_train_median,y_train_median)"
   ]
  },
  {
   "cell_type": "code",
   "execution_count": 78,
   "id": "2fbd9253-7a9e-4371-b4b2-34660497fc0c",
   "metadata": {},
   "outputs": [],
   "source": [
    "log_train_median_acc=accuracy_score(y_train_median,log_model_median.predict(x_train_median))"
   ]
  },
  {
   "cell_type": "code",
   "execution_count": 79,
   "id": "7e6b582c-797d-4cb2-955f-f39b50e81d37",
   "metadata": {},
   "outputs": [
    {
     "data": {
      "text/plain": [
       "0.7638436482084691"
      ]
     },
     "execution_count": 79,
     "metadata": {},
     "output_type": "execute_result"
    }
   ],
   "source": [
    "log_train_median_acc"
   ]
  },
  {
   "cell_type": "code",
   "execution_count": 80,
   "id": "56b41235-ca7a-4324-98ce-0d5c951ab362",
   "metadata": {},
   "outputs": [],
   "source": [
    "log_test_median_acc=accuracy_score(y_test_median,log_model_median.predict(x_test_median))"
   ]
  },
  {
   "cell_type": "code",
   "execution_count": 81,
   "id": "e7213a29-aa9b-457e-ab68-36390db3cd91",
   "metadata": {},
   "outputs": [
    {
     "data": {
      "text/plain": [
       "0.7792207792207793"
      ]
     },
     "execution_count": 81,
     "metadata": {},
     "output_type": "execute_result"
    }
   ],
   "source": [
    "log_test_median_acc"
   ]
  },
  {
   "cell_type": "code",
   "execution_count": 82,
   "id": "e317396e-24a5-4c8c-9faf-b7ae9e8ec1ea",
   "metadata": {},
   "outputs": [],
   "source": [
    "log_train_median_acc_cv=cross_val_score(log_model_median,x_train_median,y_train_median,cv=10).mean()"
   ]
  },
  {
   "cell_type": "code",
   "execution_count": 83,
   "id": "2c2f37e4-3745-40eb-b029-11353ac16d92",
   "metadata": {},
   "outputs": [
    {
     "data": {
      "text/plain": [
       "0.7572712850343734"
      ]
     },
     "execution_count": 83,
     "metadata": {},
     "output_type": "execute_result"
    }
   ],
   "source": [
    "log_train_median_acc_cv"
   ]
  },
  {
   "cell_type": "code",
   "execution_count": 84,
   "id": "25eb825b-cc4d-47e8-b82f-1701d381fd3c",
   "metadata": {},
   "outputs": [],
   "source": [
    "log_test_median_acc_cv=cross_val_score(log_model_median,x_test_median,y_test_median,cv=10).mean()"
   ]
  },
  {
   "cell_type": "code",
   "execution_count": 85,
   "id": "6669b3f5-07f7-4f23-90db-84778a636844",
   "metadata": {},
   "outputs": [
    {
     "data": {
      "text/plain": [
       "0.7658333333333334"
      ]
     },
     "execution_count": 85,
     "metadata": {},
     "output_type": "execute_result"
    }
   ],
   "source": [
    "log_test_median_acc_cv"
   ]
  },
  {
   "cell_type": "code",
   "execution_count": 86,
   "id": "0f670f4b-cbfd-4a7e-be32-43e2fe6ced54",
   "metadata": {},
   "outputs": [
    {
     "name": "stdout",
     "output_type": "stream",
     "text": [
      "              precision    recall  f1-score   support\n",
      "\n",
      "           0       0.80      0.88      0.84        99\n",
      "           1       0.73      0.60      0.66        55\n",
      "\n",
      "    accuracy                           0.78       154\n",
      "   macro avg       0.77      0.74      0.75       154\n",
      "weighted avg       0.78      0.78      0.77       154\n",
      "\n"
     ]
    }
   ],
   "source": [
    "print(classification_report(y_test_median,log_model_median.predict(x_test_median)))"
   ]
  },
  {
   "cell_type": "code",
   "execution_count": 87,
   "id": "60a74dcd-3fc3-4614-9978-87eb173197f9",
   "metadata": {},
   "outputs": [],
   "source": [
    "log_model_median_r=LogisticRegression(solver='liblinear').fit(x_train_median_r,y_train_median)"
   ]
  },
  {
   "cell_type": "code",
   "execution_count": 88,
   "id": "997d7428-c26b-429f-975e-b998c0e45cde",
   "metadata": {},
   "outputs": [],
   "source": [
    "log_train_median_r_acc=accuracy_score(y_train_median,log_model_median_r.predict(x_train_median_r))"
   ]
  },
  {
   "cell_type": "code",
   "execution_count": 89,
   "id": "37cda4fa-9e40-45d8-b624-dbcdc155432c",
   "metadata": {},
   "outputs": [
    {
     "data": {
      "text/plain": [
       "0.7638436482084691"
      ]
     },
     "execution_count": 89,
     "metadata": {},
     "output_type": "execute_result"
    }
   ],
   "source": [
    "log_train_median_acc"
   ]
  },
  {
   "cell_type": "code",
   "execution_count": 90,
   "id": "abf1bcd2-31bc-471e-ae9c-270522b6f0ba",
   "metadata": {},
   "outputs": [],
   "source": [
    "log_test_median_r_acc=accuracy_score(y_test_median,log_model_median_r.predict(x_test_median_r))"
   ]
  },
  {
   "cell_type": "code",
   "execution_count": 91,
   "id": "fa98b1bf-5e57-4a00-9e36-885e98727594",
   "metadata": {},
   "outputs": [
    {
     "data": {
      "text/plain": [
       "0.7792207792207793"
      ]
     },
     "execution_count": 91,
     "metadata": {},
     "output_type": "execute_result"
    }
   ],
   "source": [
    "log_test_median_r_acc"
   ]
  },
  {
   "cell_type": "code",
   "execution_count": 92,
   "id": "90df278c-307e-4460-acf0-3c5f76c88c73",
   "metadata": {},
   "outputs": [],
   "source": [
    "log_train_median_r_acc_cv=cross_val_score(log_model_median_r,x_train_median_r,y_train_median,cv=10).mean()"
   ]
  },
  {
   "cell_type": "code",
   "execution_count": 93,
   "id": "2042a201-3a2f-4ad4-ac9d-3d6ada9da5c6",
   "metadata": {},
   "outputs": [
    {
     "data": {
      "text/plain": [
       "0.7361713379164463"
      ]
     },
     "execution_count": 93,
     "metadata": {},
     "output_type": "execute_result"
    }
   ],
   "source": [
    "log_train_median_r_acc_cv"
   ]
  },
  {
   "cell_type": "code",
   "execution_count": 94,
   "id": "a03bb9a5-932a-4c60-867b-bb602d21eb5d",
   "metadata": {},
   "outputs": [],
   "source": [
    "log_test_median_r_acc_cv=cross_val_score(log_model_median_r,x_test_median_r,y_test_median,cv=10).mean()"
   ]
  },
  {
   "cell_type": "code",
   "execution_count": 95,
   "id": "6e44874c-8883-45e4-ad85-ff9f8edae1c7",
   "metadata": {},
   "outputs": [
    {
     "data": {
      "text/plain": [
       "0.7545833333333334"
      ]
     },
     "execution_count": 95,
     "metadata": {},
     "output_type": "execute_result"
    }
   ],
   "source": [
    "log_test_median_r_acc_cv"
   ]
  },
  {
   "cell_type": "code",
   "execution_count": 96,
   "id": "8d809f44-6670-4ae4-be20-777d013309b1",
   "metadata": {},
   "outputs": [
    {
     "name": "stdout",
     "output_type": "stream",
     "text": [
      "              precision    recall  f1-score   support\n",
      "\n",
      "           0       0.80      0.88      0.84        99\n",
      "           1       0.73      0.60      0.66        55\n",
      "\n",
      "    accuracy                           0.78       154\n",
      "   macro avg       0.77      0.74      0.75       154\n",
      "weighted avg       0.78      0.78      0.77       154\n",
      "\n"
     ]
    }
   ],
   "source": [
    "print(classification_report(y_test_median,log_model_median_r.predict(x_test_median_r)))"
   ]
  },
  {
   "cell_type": "code",
   "execution_count": 98,
   "id": "f1cf7a16-7985-40f0-b9b4-c582c0233294",
   "metadata": {},
   "outputs": [],
   "source": [
    "from sklearn.naive_bayes import GaussianNB\n",
    "nb_model=GaussianNB().fit(x_train_mean,y_train_mean)"
   ]
  },
  {
   "cell_type": "code",
   "execution_count": 99,
   "id": "ef777c4e-cf45-4e75-ac7c-095fc2281176",
   "metadata": {},
   "outputs": [],
   "source": [
    "nb_model_train_acc=accuracy_score(y_train_mean,nb_model.predict(x_train_mean))"
   ]
  },
  {
   "cell_type": "code",
   "execution_count": 100,
   "id": "e175a8ed-c795-46f5-892a-5ca68cd316df",
   "metadata": {},
   "outputs": [
    {
     "data": {
      "text/plain": [
       "0.744299674267101"
      ]
     },
     "execution_count": 100,
     "metadata": {},
     "output_type": "execute_result"
    }
   ],
   "source": [
    "nb_model_train_acc"
   ]
  },
  {
   "cell_type": "code",
   "execution_count": 101,
   "id": "8c26b48b-f536-4851-af77-52a7fc4d127f",
   "metadata": {},
   "outputs": [],
   "source": [
    "nb_model_test_acc=accuracy_score(y_test_mean,nb_model.predict(x_test_mean))"
   ]
  },
  {
   "cell_type": "code",
   "execution_count": 102,
   "id": "84c4fc78-bb81-461c-bccc-e68c0ef0acbd",
   "metadata": {},
   "outputs": [
    {
     "data": {
      "text/plain": [
       "0.7467532467532467"
      ]
     },
     "execution_count": 102,
     "metadata": {},
     "output_type": "execute_result"
    }
   ],
   "source": [
    "nb_model_test_acc"
   ]
  },
  {
   "cell_type": "code",
   "execution_count": 103,
   "id": "c00f1c85-30d4-4b1b-90f3-ac5a2c251ec6",
   "metadata": {},
   "outputs": [],
   "source": [
    "nb_model_train_acc_cv=cross_val_score(nb_model,x_train_mean,y_train_mean,cv=10).mean()"
   ]
  },
  {
   "cell_type": "code",
   "execution_count": 104,
   "id": "20e2f39a-1231-4656-a1cd-5f8a238e92b7",
   "metadata": {},
   "outputs": [
    {
     "data": {
      "text/plain": [
       "0.7393707033315706"
      ]
     },
     "execution_count": 104,
     "metadata": {},
     "output_type": "execute_result"
    }
   ],
   "source": [
    "nb_model_train_acc_cv"
   ]
  },
  {
   "cell_type": "code",
   "execution_count": 105,
   "id": "ca9b4056-1de7-40f0-afb4-987a92096261",
   "metadata": {},
   "outputs": [],
   "source": [
    "nb_model_test_acc_cv=cross_val_score(nb_model,x_test_mean,y_test_mean,cv=10).mean()"
   ]
  },
  {
   "cell_type": "code",
   "execution_count": 106,
   "id": "5d54afd4-f341-450e-a03f-448f5d7b8ada",
   "metadata": {},
   "outputs": [
    {
     "data": {
      "text/plain": [
       "0.76625"
      ]
     },
     "execution_count": 106,
     "metadata": {},
     "output_type": "execute_result"
    }
   ],
   "source": [
    "nb_model_test_acc_cv"
   ]
  },
  {
   "cell_type": "code",
   "execution_count": 107,
   "id": "df1ec482-ea6a-4e9d-9aa5-7ae9c13c9ae5",
   "metadata": {},
   "outputs": [
    {
     "name": "stdout",
     "output_type": "stream",
     "text": [
      "              precision    recall  f1-score   support\n",
      "\n",
      "           0       0.81      0.79      0.80        99\n",
      "           1       0.64      0.67      0.65        55\n",
      "\n",
      "    accuracy                           0.75       154\n",
      "   macro avg       0.73      0.73      0.73       154\n",
      "weighted avg       0.75      0.75      0.75       154\n",
      "\n"
     ]
    }
   ],
   "source": [
    "print(classification_report(y_test_mean,nb_model.predict(x_test_mean)))"
   ]
  },
  {
   "cell_type": "code",
   "execution_count": 108,
   "id": "2b8610d1-ae12-44d5-814d-3b7b35dbc542",
   "metadata": {},
   "outputs": [],
   "source": [
    "from sklearn.neighbors import KNeighborsClassifier"
   ]
  },
  {
   "cell_type": "code",
   "execution_count": 109,
   "id": "742d237e-2f33-4790-be6a-af854e832d02",
   "metadata": {},
   "outputs": [],
   "source": [
    "knn_model=KNeighborsClassifier().fit(x_train_mean,y_train_mean)"
   ]
  },
  {
   "cell_type": "code",
   "execution_count": 110,
   "id": "f608ea20-08f0-4771-808b-09e79664be21",
   "metadata": {},
   "outputs": [],
   "source": [
    "knn_model_train_acc=accuracy_score(y_train_mean,knn_model.predict(x_train_mean))"
   ]
  },
  {
   "cell_type": "code",
   "execution_count": 111,
   "id": "4259052b-d14a-490c-b301-51b920498215",
   "metadata": {},
   "outputs": [
    {
     "data": {
      "text/plain": [
       "0.8045602605863192"
      ]
     },
     "execution_count": 111,
     "metadata": {},
     "output_type": "execute_result"
    }
   ],
   "source": [
    "knn_model_train_acc"
   ]
  },
  {
   "cell_type": "code",
   "execution_count": 113,
   "id": "76e55a75-e2d7-412a-ab87-87b3e6384040",
   "metadata": {},
   "outputs": [],
   "source": [
    "knn_model_test_acc=accuracy_score(y_test_mean,knn_model.predict(x_test_mean))"
   ]
  },
  {
   "cell_type": "code",
   "execution_count": 114,
   "id": "1ba29ce5-b8c6-46b9-b926-a1dd9d412d36",
   "metadata": {},
   "outputs": [
    {
     "data": {
      "text/plain": [
       "0.6493506493506493"
      ]
     },
     "execution_count": 114,
     "metadata": {},
     "output_type": "execute_result"
    }
   ],
   "source": [
    "knn_model_test_acc"
   ]
  },
  {
   "cell_type": "code",
   "execution_count": 115,
   "id": "813ddee8-6dcd-41c9-8444-3dcc659dab03",
   "metadata": {},
   "outputs": [],
   "source": [
    "knn_model_train_acc_cv=cross_val_score(knn_model,x_train_mean,y_train_mean,cv=10).mean()"
   ]
  },
  {
   "cell_type": "code",
   "execution_count": 116,
   "id": "1e969f5c-a476-42cb-bfe5-43b461ebeff4",
   "metadata": {},
   "outputs": [
    {
     "data": {
      "text/plain": [
       "0.7183236382866209"
      ]
     },
     "execution_count": 116,
     "metadata": {},
     "output_type": "execute_result"
    }
   ],
   "source": [
    "knn_model_train_acc_cv"
   ]
  },
  {
   "cell_type": "code",
   "execution_count": 117,
   "id": "472c9c90-abc5-438e-bbf4-287b654bc494",
   "metadata": {},
   "outputs": [],
   "source": [
    "knn_model_test_acc_cv=cross_val_score(knn_model,x_test_mean,y_test_mean,cv=10).mean()"
   ]
  },
  {
   "cell_type": "code",
   "execution_count": 118,
   "id": "cb57dd97-59a9-4826-8d43-c782d9aefcc2",
   "metadata": {},
   "outputs": [
    {
     "data": {
      "text/plain": [
       "0.7483333333333333"
      ]
     },
     "execution_count": 118,
     "metadata": {},
     "output_type": "execute_result"
    }
   ],
   "source": [
    "knn_model_test_acc_cv"
   ]
  },
  {
   "cell_type": "code",
   "execution_count": 119,
   "id": "8a010f3f-8bb0-4404-a455-6689a7f03295",
   "metadata": {},
   "outputs": [
    {
     "name": "stdout",
     "output_type": "stream",
     "text": [
      "              precision    recall  f1-score   support\n",
      "\n",
      "           0       0.76      0.67      0.71        99\n",
      "           1       0.51      0.62      0.56        55\n",
      "\n",
      "    accuracy                           0.65       154\n",
      "   macro avg       0.63      0.64      0.63       154\n",
      "weighted avg       0.67      0.65      0.66       154\n",
      "\n"
     ]
    }
   ],
   "source": [
    "print(classification_report(y_test_mean,knn_model.predict(x_test_mean)))"
   ]
  },
  {
   "cell_type": "code",
   "execution_count": 120,
   "id": "f0595e2f-b2f3-4d62-8eee-d90ee8c00c11",
   "metadata": {},
   "outputs": [],
   "source": [
    "from sklearn.neural_network import MLPClassifier"
   ]
  },
  {
   "cell_type": "code",
   "execution_count": 121,
   "id": "4ee72c21-7e0d-4818-9579-f7fc2b0c67c5",
   "metadata": {},
   "outputs": [],
   "source": [
    "mlp_model=MLPClassifier().fit(x_train_mean,y_train_mean)"
   ]
  },
  {
   "cell_type": "code",
   "execution_count": 122,
   "id": "35d8331a-5001-4cf7-9ecd-af464f60a62f",
   "metadata": {},
   "outputs": [],
   "source": [
    "mlp_model_train_acc=accuracy_score(y_train_mean,mlp_model.predict(x_train_mean))"
   ]
  },
  {
   "cell_type": "code",
   "execution_count": 123,
   "id": "b41da9fa-6ef6-44c6-b48e-cd636434ae03",
   "metadata": {},
   "outputs": [
    {
     "data": {
      "text/plain": [
       "0.6742671009771987"
      ]
     },
     "execution_count": 123,
     "metadata": {},
     "output_type": "execute_result"
    }
   ],
   "source": [
    "mlp_model_train_acc"
   ]
  },
  {
   "cell_type": "code",
   "execution_count": 124,
   "id": "56e500ce-9d13-4bb3-9df7-e6ec3de51beb",
   "metadata": {},
   "outputs": [],
   "source": [
    "mlp_model_test_acc=accuracy_score(y_test_mean,mlp_model.predict(x_test_mean))"
   ]
  },
  {
   "cell_type": "code",
   "execution_count": 125,
   "id": "d4026b70-4a90-4a52-9936-acbc68d9aa80",
   "metadata": {},
   "outputs": [
    {
     "data": {
      "text/plain": [
       "0.6753246753246753"
      ]
     },
     "execution_count": 125,
     "metadata": {},
     "output_type": "execute_result"
    }
   ],
   "source": [
    "mlp_model_test_acc"
   ]
  },
  {
   "cell_type": "code",
   "execution_count": 127,
   "id": "e5045242-904a-41cb-b3b6-2fafbd7c2f1a",
   "metadata": {},
   "outputs": [],
   "source": [
    "import warnings\n",
    "warnings.filterwarnings('ignore')"
   ]
  },
  {
   "cell_type": "code",
   "execution_count": 128,
   "id": "03519db7-a626-4946-9b78-4a4423a545cd",
   "metadata": {},
   "outputs": [],
   "source": [
    "mlp_model_train_acc_cv=cross_val_score(mlp_model,x_train_mean,y_train_mean,cv=10).mean()"
   ]
  },
  {
   "cell_type": "code",
   "execution_count": 129,
   "id": "5e4ac5d9-d366-4e40-8552-4a71421f0b97",
   "metadata": {},
   "outputs": [
    {
     "data": {
      "text/plain": [
       "0.7102062400846114"
      ]
     },
     "execution_count": 129,
     "metadata": {},
     "output_type": "execute_result"
    }
   ],
   "source": [
    "mlp_model_train_acc_cv"
   ]
  },
  {
   "cell_type": "code",
   "execution_count": 130,
   "id": "2fe126a8-fed3-471e-a866-d746a7b1aed7",
   "metadata": {},
   "outputs": [],
   "source": [
    "mlp_model_test_acc_cv=cross_val_score(mlp_model,x_test_mean,y_test_mean,cv=10).mean()"
   ]
  },
  {
   "cell_type": "code",
   "execution_count": 131,
   "id": "8ca854b6-d555-42d8-83ed-dfa54c2dcf4f",
   "metadata": {},
   "outputs": [
    {
     "data": {
      "text/plain": [
       "0.7083333333333334"
      ]
     },
     "execution_count": 131,
     "metadata": {},
     "output_type": "execute_result"
    }
   ],
   "source": [
    "mlp_model_test_acc_cv"
   ]
  },
  {
   "cell_type": "code",
   "execution_count": 133,
   "id": "7da11bba-3553-473a-9051-61e4cd8bdeff",
   "metadata": {},
   "outputs": [
    {
     "name": "stdout",
     "output_type": "stream",
     "text": [
      "              precision    recall  f1-score   support\n",
      "\n",
      "           0       0.67      0.99      0.80        99\n",
      "           1       0.86      0.11      0.19        55\n",
      "\n",
      "    accuracy                           0.68       154\n",
      "   macro avg       0.76      0.55      0.50       154\n",
      "weighted avg       0.73      0.68      0.58       154\n",
      "\n"
     ]
    }
   ],
   "source": [
    "print(classification_report(y_test_mean,mlp_model.predict(x_test_mean)))"
   ]
  },
  {
   "cell_type": "code",
   "execution_count": 134,
   "id": "29700223-927d-476d-99cd-36bb0ed7e3e0",
   "metadata": {},
   "outputs": [],
   "source": [
    "from sklearn.tree import DecisionTreeClassifier"
   ]
  },
  {
   "cell_type": "code",
   "execution_count": 135,
   "id": "5f2847c6-d1f1-4957-83eb-9d6fd5b94fce",
   "metadata": {},
   "outputs": [],
   "source": [
    "cart_model=DecisionTreeClassifier().fit(x_train_mean,y_train_mean)"
   ]
  },
  {
   "cell_type": "code",
   "execution_count": 136,
   "id": "9256a0ab-43ab-4a4a-b407-906b108930f5",
   "metadata": {},
   "outputs": [],
   "source": [
    "cart_model_train_acc=accuracy_score(y_train_mean,cart_model.predict(x_train_mean))"
   ]
  },
  {
   "cell_type": "code",
   "execution_count": 137,
   "id": "2d4a4ac0-7c42-476f-bcf8-7768e9198650",
   "metadata": {},
   "outputs": [
    {
     "data": {
      "text/plain": [
       "1.0"
      ]
     },
     "execution_count": 137,
     "metadata": {},
     "output_type": "execute_result"
    }
   ],
   "source": [
    "cart_model_train_acc"
   ]
  },
  {
   "cell_type": "code",
   "execution_count": 138,
   "id": "3689cd96-db88-4fb0-9820-77ca2ee16da7",
   "metadata": {},
   "outputs": [],
   "source": [
    "cart_model_test_acc=accuracy_score(y_test_mean,cart_model.predict(x_test_mean))"
   ]
  },
  {
   "cell_type": "code",
   "execution_count": 139,
   "id": "83cbef69-53dd-4974-80c1-d3d6c92f73e2",
   "metadata": {},
   "outputs": [
    {
     "data": {
      "text/plain": [
       "0.7077922077922078"
      ]
     },
     "execution_count": 139,
     "metadata": {},
     "output_type": "execute_result"
    }
   ],
   "source": [
    "cart_model_test_acc"
   ]
  },
  {
   "cell_type": "code",
   "execution_count": 140,
   "id": "90f7a0cf-222d-4937-b58c-23bc99c9975a",
   "metadata": {},
   "outputs": [],
   "source": [
    "cart_model_train_acc_cv=cross_val_score(cart_model,x_train_mean,y_train_mean,cv=10).mean()"
   ]
  },
  {
   "cell_type": "code",
   "execution_count": 141,
   "id": "61fabe2f-4471-4554-a74f-b30515328c82",
   "metadata": {},
   "outputs": [
    {
     "data": {
      "text/plain": [
       "0.69362771020624"
      ]
     },
     "execution_count": 141,
     "metadata": {},
     "output_type": "execute_result"
    }
   ],
   "source": [
    "cart_model_train_acc_cv"
   ]
  },
  {
   "cell_type": "code",
   "execution_count": 142,
   "id": "cdaefe2c-9ad7-4be1-bacb-384c3e40043e",
   "metadata": {},
   "outputs": [],
   "source": [
    "cart_model_test_acc_cv=cross_val_score(cart_model,x_test_mean,y_test_mean,cv=10).mean()"
   ]
  },
  {
   "cell_type": "code",
   "execution_count": 143,
   "id": "aca6fc10-64df-4c3e-8fae-475eefe3000a",
   "metadata": {},
   "outputs": [
    {
     "data": {
      "text/plain": [
       "0.7133333333333333"
      ]
     },
     "execution_count": 143,
     "metadata": {},
     "output_type": "execute_result"
    }
   ],
   "source": [
    "cart_model_test_acc_cv"
   ]
  },
  {
   "cell_type": "code",
   "execution_count": 144,
   "id": "880a5216-5a92-451f-a82d-5bc826e7816e",
   "metadata": {},
   "outputs": [
    {
     "name": "stdout",
     "output_type": "stream",
     "text": [
      "              precision    recall  f1-score   support\n",
      "\n",
      "           0       0.78      0.76      0.77        99\n",
      "           1       0.59      0.62      0.60        55\n",
      "\n",
      "    accuracy                           0.71       154\n",
      "   macro avg       0.68      0.69      0.69       154\n",
      "weighted avg       0.71      0.71      0.71       154\n",
      "\n"
     ]
    }
   ],
   "source": [
    "print(classification_report(y_test_mean,cart_model.predict(x_test_mean)))"
   ]
  },
  {
   "cell_type": "code",
   "execution_count": 145,
   "id": "6fc460dc-d180-4627-95f9-a212b21f2b22",
   "metadata": {},
   "outputs": [],
   "source": [
    "from sklearn.ensemble import RandomForestClassifier"
   ]
  },
  {
   "cell_type": "code",
   "execution_count": 146,
   "id": "9f64081e-445c-46c6-8d94-bba339fef985",
   "metadata": {},
   "outputs": [],
   "source": [
    "rf_model=RandomForestClassifier().fit(x_train_mean,y_train_mean)"
   ]
  },
  {
   "cell_type": "code",
   "execution_count": 148,
   "id": "7d74a152-dbc3-45ae-890a-33077597fad7",
   "metadata": {},
   "outputs": [],
   "source": [
    "rf_model_train_acc=accuracy_score(y_train_mean,rf_model.predict(x_train_mean))"
   ]
  },
  {
   "cell_type": "code",
   "execution_count": 149,
   "id": "78f9f2cc-5493-4520-8fbd-eb84ad69ae63",
   "metadata": {},
   "outputs": [
    {
     "data": {
      "text/plain": [
       "1.0"
      ]
     },
     "execution_count": 149,
     "metadata": {},
     "output_type": "execute_result"
    }
   ],
   "source": [
    "rf_model_train_acc"
   ]
  },
  {
   "cell_type": "code",
   "execution_count": 150,
   "id": "29e548a0-0028-4fc2-8410-59f809a48568",
   "metadata": {},
   "outputs": [],
   "source": [
    "rf_model_test_acc=accuracy_score(y_test_mean,rf_model.predict(x_test_mean))"
   ]
  },
  {
   "cell_type": "code",
   "execution_count": 151,
   "id": "2727b796-32b5-4f89-9349-bd8add59ead5",
   "metadata": {},
   "outputs": [
    {
     "data": {
      "text/plain": [
       "0.7597402597402597"
      ]
     },
     "execution_count": 151,
     "metadata": {},
     "output_type": "execute_result"
    }
   ],
   "source": [
    "rf_model_test_acc"
   ]
  },
  {
   "cell_type": "code",
   "execution_count": 152,
   "id": "a9cf1969-c23d-445f-92ea-4d488951f507",
   "metadata": {},
   "outputs": [],
   "source": [
    "rf_model_train_acc_cv=cross_val_score(rf_model,x_train_mean,y_train_mean,cv=10).mean()"
   ]
  },
  {
   "cell_type": "code",
   "execution_count": 153,
   "id": "77b0ddc0-1753-4afd-b9cd-5af167d064b2",
   "metadata": {},
   "outputs": [
    {
     "data": {
      "text/plain": [
       "0.7638286620835536"
      ]
     },
     "execution_count": 153,
     "metadata": {},
     "output_type": "execute_result"
    }
   ],
   "source": [
    "rf_model_train_acc_cv"
   ]
  },
  {
   "cell_type": "code",
   "execution_count": 154,
   "id": "6dc93104-ee74-4985-a171-51734bb2e2f4",
   "metadata": {},
   "outputs": [],
   "source": [
    "rf_model_test_acc_cv=cross_val_score(rf_model,x_test_mean,y_test_mean,cv=10).mean()"
   ]
  },
  {
   "cell_type": "code",
   "execution_count": 155,
   "id": "7b5fd97f-1425-437f-ba24-903de47ce501",
   "metadata": {},
   "outputs": [
    {
     "data": {
      "text/plain": [
       "0.73625"
      ]
     },
     "execution_count": 155,
     "metadata": {},
     "output_type": "execute_result"
    }
   ],
   "source": [
    "rf_model_test_acc_cv"
   ]
  },
  {
   "cell_type": "code",
   "execution_count": 156,
   "id": "3f807d33-53a4-4e08-a31c-fccaa084053e",
   "metadata": {},
   "outputs": [
    {
     "name": "stdout",
     "output_type": "stream",
     "text": [
      "              precision    recall  f1-score   support\n",
      "\n",
      "           0       0.82      0.80      0.81        99\n",
      "           1       0.66      0.69      0.67        55\n",
      "\n",
      "    accuracy                           0.76       154\n",
      "   macro avg       0.74      0.74      0.74       154\n",
      "weighted avg       0.76      0.76      0.76       154\n",
      "\n"
     ]
    }
   ],
   "source": [
    "print(classification_report(y_test_mean,rf_model.predict(x_test_mean)))"
   ]
  },
  {
   "cell_type": "code",
   "execution_count": 157,
   "id": "98653b67-c207-4fcb-b25a-9a48a73ea239",
   "metadata": {},
   "outputs": [],
   "source": [
    "from sklearn.svm import SVC"
   ]
  },
  {
   "cell_type": "code",
   "execution_count": 158,
   "id": "38c74316-03b7-4043-ae12-e0f28a5e3518",
   "metadata": {},
   "outputs": [],
   "source": [
    "svm_model_lin=SVC(kernel='linear').fit(x_train_mean,y_train_mean)"
   ]
  },
  {
   "cell_type": "code",
   "execution_count": 163,
   "id": "2be38bf2-3687-4482-8f92-154d30c8ecc8",
   "metadata": {},
   "outputs": [],
   "source": [
    "svm_model_lin_train_acc=accuracy_score(y_train_mean,svm_model_lin.predict(x_train_mean))"
   ]
  },
  {
   "cell_type": "code",
   "execution_count": 164,
   "id": "c981bdab-ec38-4741-8872-2fbf12802e84",
   "metadata": {},
   "outputs": [
    {
     "data": {
      "text/plain": [
       "0.7719869706840391"
      ]
     },
     "execution_count": 164,
     "metadata": {},
     "output_type": "execute_result"
    }
   ],
   "source": [
    "svm_model_lin_train_acc"
   ]
  },
  {
   "cell_type": "code",
   "execution_count": 165,
   "id": "6c34015d-aed6-4d0d-a314-c46dc4aca8cd",
   "metadata": {},
   "outputs": [],
   "source": [
    "svm_model_lin_test_acc=accuracy_score(y_test_mean,svm_model_lin.predict(x_test_mean))"
   ]
  },
  {
   "cell_type": "code",
   "execution_count": 166,
   "id": "b38c7732-da06-4429-9094-f5d7298a7316",
   "metadata": {},
   "outputs": [
    {
     "data": {
      "text/plain": [
       "0.7532467532467533"
      ]
     },
     "execution_count": 166,
     "metadata": {},
     "output_type": "execute_result"
    }
   ],
   "source": [
    "svm_model_lin_test_acc"
   ]
  },
  {
   "cell_type": "code",
   "execution_count": 167,
   "id": "76d446f2-f359-480a-a437-5384209e8d5a",
   "metadata": {},
   "outputs": [],
   "source": [
    "svm_model_lin_train_acc_cv=cross_val_score(svm_model_lin,x_train_mean,y_train_mean,cv=10).mean()"
   ]
  },
  {
   "cell_type": "code",
   "execution_count": 169,
   "id": "2374bb8a-4718-4f0e-b759-ef4cd024c58a",
   "metadata": {},
   "outputs": [
    {
     "data": {
      "text/plain": [
       "0.765520888418826"
      ]
     },
     "execution_count": 169,
     "metadata": {},
     "output_type": "execute_result"
    }
   ],
   "source": [
    "svm_model_lin_train_acc_cv"
   ]
  },
  {
   "cell_type": "code",
   "execution_count": 170,
   "id": "f48fdab1-e743-4481-99c0-29cfeb8ee47a",
   "metadata": {},
   "outputs": [],
   "source": [
    "svm_model_lin_test_acc_cv=cross_val_score(svm_model_lin,x_test_mean,y_test_mean,cv=10).mean()"
   ]
  },
  {
   "cell_type": "code",
   "execution_count": 171,
   "id": "14b79528-b2c4-4118-9039-a869c7e11e4b",
   "metadata": {},
   "outputs": [
    {
     "data": {
      "text/plain": [
       "0.7808333333333334"
      ]
     },
     "execution_count": 171,
     "metadata": {},
     "output_type": "execute_result"
    }
   ],
   "source": [
    "svm_model_lin_test_acc_cv"
   ]
  },
  {
   "cell_type": "code",
   "execution_count": 172,
   "id": "0b043351-0891-4fe1-a449-2bd6f7b02296",
   "metadata": {},
   "outputs": [
    {
     "name": "stdout",
     "output_type": "stream",
     "text": [
      "              precision    recall  f1-score   support\n",
      "\n",
      "           0       0.80      0.83      0.81        99\n",
      "           1       0.67      0.62      0.64        55\n",
      "\n",
      "    accuracy                           0.75       154\n",
      "   macro avg       0.73      0.72      0.73       154\n",
      "weighted avg       0.75      0.75      0.75       154\n",
      "\n"
     ]
    }
   ],
   "source": [
    "print(classification_report(y_test_mean,svm_model_lin.predict(x_test_mean)))"
   ]
  },
  {
   "cell_type": "code",
   "execution_count": 173,
   "id": "47ece43c-1597-4811-801b-d11aa42dedee",
   "metadata": {},
   "outputs": [],
   "source": [
    "svm_model_rbf=SVC(kernel='rbf').fit(x_train_mean,y_train_mean)"
   ]
  },
  {
   "cell_type": "code",
   "execution_count": 174,
   "id": "9ad478de-c2a1-4dba-a93e-a65171c8778c",
   "metadata": {},
   "outputs": [],
   "source": [
    "svm_model_rbf_train_acc=accuracy_score(y_train_mean,svm_model_rbf.predict(x_train_mean))"
   ]
  },
  {
   "cell_type": "code",
   "execution_count": 175,
   "id": "1ebb6c6d-e283-49dd-a957-6e364e9de1f8",
   "metadata": {},
   "outputs": [
    {
     "data": {
      "text/plain": [
       "0.7687296416938111"
      ]
     },
     "execution_count": 175,
     "metadata": {},
     "output_type": "execute_result"
    }
   ],
   "source": [
    "svm_model_rbf_train_acc"
   ]
  },
  {
   "cell_type": "code",
   "execution_count": 176,
   "id": "caa36868-25da-4425-92db-4e07e4d536f1",
   "metadata": {},
   "outputs": [],
   "source": [
    "svm_model_rbf_test_acc=accuracy_score(y_test_mean,svm_model_rbf.predict(x_test_mean))"
   ]
  },
  {
   "cell_type": "code",
   "execution_count": 177,
   "id": "9206b862-9272-49fe-834f-57616054cc29",
   "metadata": {},
   "outputs": [
    {
     "data": {
      "text/plain": [
       "0.7597402597402597"
      ]
     },
     "execution_count": 177,
     "metadata": {},
     "output_type": "execute_result"
    }
   ],
   "source": [
    "svm_model_rbf_test_acc"
   ]
  },
  {
   "cell_type": "code",
   "execution_count": 179,
   "id": "dd268081-5438-4fd8-b3da-4950ea450aea",
   "metadata": {},
   "outputs": [],
   "source": [
    "svm_model_rbf_train_acc_cv=cross_val_score(svm_model_rbf,x_train_mean,y_train_mean,cv=10).mean()"
   ]
  },
  {
   "cell_type": "code",
   "execution_count": 180,
   "id": "50185a9e-3fbe-4b70-ac17-b7708bae5153",
   "metadata": {},
   "outputs": [
    {
     "data": {
      "text/plain": [
       "0.7524061343204653"
      ]
     },
     "execution_count": 180,
     "metadata": {},
     "output_type": "execute_result"
    }
   ],
   "source": [
    "svm_model_rbf_train_acc_cv"
   ]
  },
  {
   "cell_type": "code",
   "execution_count": 181,
   "id": "d70db33b-c41b-4583-9aad-ef454173e07e",
   "metadata": {},
   "outputs": [],
   "source": [
    "svm_model_rbf_test_acc_cv=cross_val_score(svm_model_rbf,x_test_mean,y_test_mean,cv=10).mean()"
   ]
  },
  {
   "cell_type": "code",
   "execution_count": 182,
   "id": "576a493f-d9fc-4d91-b133-84bb1a1d808a",
   "metadata": {},
   "outputs": [
    {
     "data": {
      "text/plain": [
       "0.73375"
      ]
     },
     "execution_count": 182,
     "metadata": {},
     "output_type": "execute_result"
    }
   ],
   "source": [
    "svm_model_rbf_test_acc_cv"
   ]
  },
  {
   "cell_type": "code",
   "execution_count": 184,
   "id": "70429dcc-2743-4fa3-88c0-380baa13ede7",
   "metadata": {},
   "outputs": [
    {
     "name": "stdout",
     "output_type": "stream",
     "text": [
      "              precision    recall  f1-score   support\n",
      "\n",
      "           0       0.78      0.88      0.82        99\n",
      "           1       0.71      0.55      0.62        55\n",
      "\n",
      "    accuracy                           0.76       154\n",
      "   macro avg       0.75      0.71      0.72       154\n",
      "weighted avg       0.75      0.76      0.75       154\n",
      "\n"
     ]
    }
   ],
   "source": [
    "print(classification_report(y_test_mean,svm_model_rbf.predict(x_test_mean)))"
   ]
  },
  {
   "cell_type": "code",
   "execution_count": 185,
   "id": "d561b733-d6a1-4fb9-847f-6df1dfd69797",
   "metadata": {},
   "outputs": [],
   "source": [
    "from sklearn.ensemble import GradientBoostingClassifier"
   ]
  },
  {
   "cell_type": "code",
   "execution_count": 186,
   "id": "bdc89b2c-1c2e-4ab2-a9c3-e1ca1b0491d9",
   "metadata": {},
   "outputs": [],
   "source": [
    "gbm_model=GradientBoostingClassifier().fit(x_train_mean,y_train_mean)"
   ]
  },
  {
   "cell_type": "code",
   "execution_count": 187,
   "id": "f0cf33aa-ec2f-4ca5-af7a-46e43d97656e",
   "metadata": {},
   "outputs": [],
   "source": [
    "gbm_model_train_acc=accuracy_score(y_train_mean,gbm_model.predict(x_train_mean))"
   ]
  },
  {
   "cell_type": "code",
   "execution_count": 188,
   "id": "a19f7478-6af9-410a-86f5-2752f93c0f77",
   "metadata": {},
   "outputs": [
    {
     "data": {
      "text/plain": [
       "0.9283387622149837"
      ]
     },
     "execution_count": 188,
     "metadata": {},
     "output_type": "execute_result"
    }
   ],
   "source": [
    "gbm_model_train_acc"
   ]
  },
  {
   "cell_type": "code",
   "execution_count": 189,
   "id": "67db7750-5490-4044-8b63-1dc33e804cf1",
   "metadata": {},
   "outputs": [],
   "source": [
    "gbm_model_test_acc=accuracy_score(y_test_mean,gbm_model.predict(x_test_mean))"
   ]
  },
  {
   "cell_type": "code",
   "execution_count": 190,
   "id": "1d336ffd-897d-45ee-961a-94f990202715",
   "metadata": {},
   "outputs": [
    {
     "data": {
      "text/plain": [
       "0.7402597402597403"
      ]
     },
     "execution_count": 190,
     "metadata": {},
     "output_type": "execute_result"
    }
   ],
   "source": [
    "gbm_model_test_acc"
   ]
  },
  {
   "cell_type": "code",
   "execution_count": 191,
   "id": "481e1b18-160e-49ee-9ef5-b48c79f602ce",
   "metadata": {},
   "outputs": [],
   "source": [
    "gbm_model_train_acc_cv=cross_val_score(gbm_model,x_train_mean,y_train_mean,cv=10).mean()"
   ]
  },
  {
   "cell_type": "code",
   "execution_count": 192,
   "id": "8255e58b-ed3f-4b4f-b324-080e76834968",
   "metadata": {},
   "outputs": [
    {
     "data": {
      "text/plain": [
       "0.7702009518773135"
      ]
     },
     "execution_count": 192,
     "metadata": {},
     "output_type": "execute_result"
    }
   ],
   "source": [
    "gbm_model_train_acc_cv"
   ]
  },
  {
   "cell_type": "code",
   "execution_count": 193,
   "id": "a39f6eb3-8241-4188-b36e-1f81b5a18de3",
   "metadata": {},
   "outputs": [],
   "source": [
    "gbm_model_test_acc_cv=cross_val_score(gbm_model,x_test_mean,y_test_mean,cv=10).mean()"
   ]
  },
  {
   "cell_type": "code",
   "execution_count": 194,
   "id": "101a7916-2ae0-4e00-8490-4222b7863dcd",
   "metadata": {},
   "outputs": [
    {
     "data": {
      "text/plain": [
       "0.7408333333333335"
      ]
     },
     "execution_count": 194,
     "metadata": {},
     "output_type": "execute_result"
    }
   ],
   "source": [
    "gbm_model_test_acc_cv"
   ]
  },
  {
   "cell_type": "code",
   "execution_count": 195,
   "id": "c077bfc1-26bb-4ebc-bfca-f430655d9abd",
   "metadata": {},
   "outputs": [
    {
     "name": "stdout",
     "output_type": "stream",
     "text": [
      "              precision    recall  f1-score   support\n",
      "\n",
      "           0       0.82      0.77      0.79        99\n",
      "           1       0.62      0.69      0.66        55\n",
      "\n",
      "    accuracy                           0.74       154\n",
      "   macro avg       0.72      0.73      0.72       154\n",
      "weighted avg       0.75      0.74      0.74       154\n",
      "\n"
     ]
    }
   ],
   "source": [
    "print(classification_report(y_test_mean,gbm_model.predict(x_test_mean)))"
   ]
  },
  {
   "cell_type": "code",
   "execution_count": 201,
   "id": "4fbe86b4-5c76-447c-81c0-a49acc99a29f",
   "metadata": {},
   "outputs": [],
   "source": [
    "from xgboost import XGBClassifier"
   ]
  },
  {
   "cell_type": "code",
   "execution_count": 202,
   "id": "f3c6fdc1-aa6c-445d-b40c-bc72f086a1d0",
   "metadata": {},
   "outputs": [],
   "source": [
    "xgb_model=XGBClassifier().fit(x_train_mean,y_train_mean)"
   ]
  },
  {
   "cell_type": "code",
   "execution_count": 203,
   "id": "bc81c80a-e57d-4c1a-896d-51cff0dfd84e",
   "metadata": {},
   "outputs": [],
   "source": [
    "xgb_model_train_acc=accuracy_score(y_train_mean,xgb_model.predict(x_train_mean))"
   ]
  },
  {
   "cell_type": "code",
   "execution_count": 204,
   "id": "221f8582-c51a-43c5-9f78-c7675974ad33",
   "metadata": {},
   "outputs": [
    {
     "data": {
      "text/plain": [
       "1.0"
      ]
     },
     "execution_count": 204,
     "metadata": {},
     "output_type": "execute_result"
    }
   ],
   "source": [
    "xgb_model_train_acc"
   ]
  },
  {
   "cell_type": "code",
   "execution_count": 205,
   "id": "42024042-e59d-4381-89fa-a1078ff54e26",
   "metadata": {},
   "outputs": [],
   "source": [
    "xgb_model_test_acc=accuracy_score(y_test_mean,xgb_model.predict(x_test_mean))"
   ]
  },
  {
   "cell_type": "code",
   "execution_count": 206,
   "id": "ada6073d-324b-451f-b186-66cd339a63e9",
   "metadata": {},
   "outputs": [
    {
     "data": {
      "text/plain": [
       "0.7142857142857143"
      ]
     },
     "execution_count": 206,
     "metadata": {},
     "output_type": "execute_result"
    }
   ],
   "source": [
    "xgb_model_test_acc"
   ]
  },
  {
   "cell_type": "code",
   "execution_count": 207,
   "id": "5457b404-5749-4db4-a19e-12ba5ed8ead7",
   "metadata": {},
   "outputs": [],
   "source": [
    "xgb_model_train_acc_cv=cross_val_score(xgb_model,x_train_mean,y_train_mean,cv=10).mean()"
   ]
  },
  {
   "cell_type": "code",
   "execution_count": 208,
   "id": "e147860e-bbb3-4e48-8d60-d57ea2012a16",
   "metadata": {},
   "outputs": [
    {
     "data": {
      "text/plain": [
       "0.753939714436806"
      ]
     },
     "execution_count": 208,
     "metadata": {},
     "output_type": "execute_result"
    }
   ],
   "source": [
    "xgb_model_train_acc_cv"
   ]
  },
  {
   "cell_type": "code",
   "execution_count": 209,
   "id": "fe788f3c-acb6-443e-b75a-5991ff5bffdb",
   "metadata": {},
   "outputs": [],
   "source": [
    "xgb_model_test_acc_cv=cross_val_score(xgb_model,x_test_mean,y_test_mean,cv=10).mean()"
   ]
  },
  {
   "cell_type": "code",
   "execution_count": 210,
   "id": "e116d251-6943-4f03-acd1-b4137b83355c",
   "metadata": {},
   "outputs": [
    {
     "data": {
      "text/plain": [
       "0.7416666666666667"
      ]
     },
     "execution_count": 210,
     "metadata": {},
     "output_type": "execute_result"
    }
   ],
   "source": [
    "xgb_model_test_acc_cv"
   ]
  },
  {
   "cell_type": "code",
   "execution_count": 211,
   "id": "b87fb237-bc38-47ea-8de1-016a7b02445d",
   "metadata": {},
   "outputs": [
    {
     "name": "stdout",
     "output_type": "stream",
     "text": [
      "              precision    recall  f1-score   support\n",
      "\n",
      "           0       0.80      0.75      0.77        99\n",
      "           1       0.59      0.65      0.62        55\n",
      "\n",
      "    accuracy                           0.71       154\n",
      "   macro avg       0.69      0.70      0.70       154\n",
      "weighted avg       0.72      0.71      0.72       154\n",
      "\n"
     ]
    }
   ],
   "source": [
    "print(classification_report(y_test_mean,xgb_model.predict(x_test_mean)))"
   ]
  },
  {
   "cell_type": "code",
   "execution_count": 214,
   "id": "042198e4-3abe-4013-8171-3d3b71e19fd9",
   "metadata": {},
   "outputs": [],
   "source": [
    "from sklearn.model_selection import GridSearchCV"
   ]
  },
  {
   "cell_type": "code",
   "execution_count": 217,
   "id": "1f5da14e-5107-4ef6-b476-8b3e188cbfde",
   "metadata": {},
   "outputs": [],
   "source": [
    "rf=RandomForestClassifier(random_state=42)\n",
    "rf_params={\n",
    "    'n_estimators':[100,200,500],\n",
    "    'max_depth':[None,5,10,15],\n",
    "    'min_samples_split':[2,5,10],\n",
    "    'min_samples_leaf':[1,2,5],\n",
    "    'max_features':['sqrt','log2'],\n",
    "    'class_weight':[None,'balanced']\n",
    "}\n",
    "rf_cv=GridSearchCV(rf,rf_params,scoring='recall',cv=10,n_jobs=-1,verbose=2)"
   ]
  },
  {
   "cell_type": "code",
   "execution_count": 218,
   "id": "597e2724-1fba-4320-af69-13f1a19cf4af",
   "metadata": {},
   "outputs": [
    {
     "name": "stdout",
     "output_type": "stream",
     "text": [
      "Fitting 10 folds for each of 432 candidates, totalling 4320 fits\n"
     ]
    },
    {
     "data": {
      "text/html": [
       "<style>#sk-container-id-1 {color: black;background-color: white;}#sk-container-id-1 pre{padding: 0;}#sk-container-id-1 div.sk-toggleable {background-color: white;}#sk-container-id-1 label.sk-toggleable__label {cursor: pointer;display: block;width: 100%;margin-bottom: 0;padding: 0.3em;box-sizing: border-box;text-align: center;}#sk-container-id-1 label.sk-toggleable__label-arrow:before {content: \"▸\";float: left;margin-right: 0.25em;color: #696969;}#sk-container-id-1 label.sk-toggleable__label-arrow:hover:before {color: black;}#sk-container-id-1 div.sk-estimator:hover label.sk-toggleable__label-arrow:before {color: black;}#sk-container-id-1 div.sk-toggleable__content {max-height: 0;max-width: 0;overflow: hidden;text-align: left;background-color: #f0f8ff;}#sk-container-id-1 div.sk-toggleable__content pre {margin: 0.2em;color: black;border-radius: 0.25em;background-color: #f0f8ff;}#sk-container-id-1 input.sk-toggleable__control:checked~div.sk-toggleable__content {max-height: 200px;max-width: 100%;overflow: auto;}#sk-container-id-1 input.sk-toggleable__control:checked~label.sk-toggleable__label-arrow:before {content: \"▾\";}#sk-container-id-1 div.sk-estimator input.sk-toggleable__control:checked~label.sk-toggleable__label {background-color: #d4ebff;}#sk-container-id-1 div.sk-label input.sk-toggleable__control:checked~label.sk-toggleable__label {background-color: #d4ebff;}#sk-container-id-1 input.sk-hidden--visually {border: 0;clip: rect(1px 1px 1px 1px);clip: rect(1px, 1px, 1px, 1px);height: 1px;margin: -1px;overflow: hidden;padding: 0;position: absolute;width: 1px;}#sk-container-id-1 div.sk-estimator {font-family: monospace;background-color: #f0f8ff;border: 1px dotted black;border-radius: 0.25em;box-sizing: border-box;margin-bottom: 0.5em;}#sk-container-id-1 div.sk-estimator:hover {background-color: #d4ebff;}#sk-container-id-1 div.sk-parallel-item::after {content: \"\";width: 100%;border-bottom: 1px solid gray;flex-grow: 1;}#sk-container-id-1 div.sk-label:hover label.sk-toggleable__label {background-color: #d4ebff;}#sk-container-id-1 div.sk-serial::before {content: \"\";position: absolute;border-left: 1px solid gray;box-sizing: border-box;top: 0;bottom: 0;left: 50%;z-index: 0;}#sk-container-id-1 div.sk-serial {display: flex;flex-direction: column;align-items: center;background-color: white;padding-right: 0.2em;padding-left: 0.2em;position: relative;}#sk-container-id-1 div.sk-item {position: relative;z-index: 1;}#sk-container-id-1 div.sk-parallel {display: flex;align-items: stretch;justify-content: center;background-color: white;position: relative;}#sk-container-id-1 div.sk-item::before, #sk-container-id-1 div.sk-parallel-item::before {content: \"\";position: absolute;border-left: 1px solid gray;box-sizing: border-box;top: 0;bottom: 0;left: 50%;z-index: -1;}#sk-container-id-1 div.sk-parallel-item {display: flex;flex-direction: column;z-index: 1;position: relative;background-color: white;}#sk-container-id-1 div.sk-parallel-item:first-child::after {align-self: flex-end;width: 50%;}#sk-container-id-1 div.sk-parallel-item:last-child::after {align-self: flex-start;width: 50%;}#sk-container-id-1 div.sk-parallel-item:only-child::after {width: 0;}#sk-container-id-1 div.sk-dashed-wrapped {border: 1px dashed gray;margin: 0 0.4em 0.5em 0.4em;box-sizing: border-box;padding-bottom: 0.4em;background-color: white;}#sk-container-id-1 div.sk-label label {font-family: monospace;font-weight: bold;display: inline-block;line-height: 1.2em;}#sk-container-id-1 div.sk-label-container {text-align: center;}#sk-container-id-1 div.sk-container {/* jupyter's `normalize.less` sets `[hidden] { display: none; }` but bootstrap.min.css set `[hidden] { display: none !important; }` so we also need the `!important` here to be able to override the default hidden behavior on the sphinx rendered scikit-learn.org. See: https://github.com/scikit-learn/scikit-learn/issues/21755 */display: inline-block !important;position: relative;}#sk-container-id-1 div.sk-text-repr-fallback {display: none;}</style><div id=\"sk-container-id-1\" class=\"sk-top-container\"><div class=\"sk-text-repr-fallback\"><pre>GridSearchCV(cv=10, estimator=RandomForestClassifier(random_state=42),\n",
       "             n_jobs=-1,\n",
       "             param_grid={&#x27;class_weight&#x27;: [None, &#x27;balanced&#x27;],\n",
       "                         &#x27;max_depth&#x27;: [None, 5, 10, 15],\n",
       "                         &#x27;max_features&#x27;: [&#x27;sqrt&#x27;, &#x27;log2&#x27;],\n",
       "                         &#x27;min_samples_leaf&#x27;: [1, 2, 5],\n",
       "                         &#x27;min_samples_split&#x27;: [2, 5, 10],\n",
       "                         &#x27;n_estimators&#x27;: [100, 200, 500]},\n",
       "             scoring=&#x27;recall&#x27;, verbose=2)</pre><b>In a Jupyter environment, please rerun this cell to show the HTML representation or trust the notebook. <br />On GitHub, the HTML representation is unable to render, please try loading this page with nbviewer.org.</b></div><div class=\"sk-container\" hidden><div class=\"sk-item sk-dashed-wrapped\"><div class=\"sk-label-container\"><div class=\"sk-label sk-toggleable\"><input class=\"sk-toggleable__control sk-hidden--visually\" id=\"sk-estimator-id-1\" type=\"checkbox\" ><label for=\"sk-estimator-id-1\" class=\"sk-toggleable__label sk-toggleable__label-arrow\">GridSearchCV</label><div class=\"sk-toggleable__content\"><pre>GridSearchCV(cv=10, estimator=RandomForestClassifier(random_state=42),\n",
       "             n_jobs=-1,\n",
       "             param_grid={&#x27;class_weight&#x27;: [None, &#x27;balanced&#x27;],\n",
       "                         &#x27;max_depth&#x27;: [None, 5, 10, 15],\n",
       "                         &#x27;max_features&#x27;: [&#x27;sqrt&#x27;, &#x27;log2&#x27;],\n",
       "                         &#x27;min_samples_leaf&#x27;: [1, 2, 5],\n",
       "                         &#x27;min_samples_split&#x27;: [2, 5, 10],\n",
       "                         &#x27;n_estimators&#x27;: [100, 200, 500]},\n",
       "             scoring=&#x27;recall&#x27;, verbose=2)</pre></div></div></div><div class=\"sk-parallel\"><div class=\"sk-parallel-item\"><div class=\"sk-item\"><div class=\"sk-label-container\"><div class=\"sk-label sk-toggleable\"><input class=\"sk-toggleable__control sk-hidden--visually\" id=\"sk-estimator-id-2\" type=\"checkbox\" ><label for=\"sk-estimator-id-2\" class=\"sk-toggleable__label sk-toggleable__label-arrow\">estimator: RandomForestClassifier</label><div class=\"sk-toggleable__content\"><pre>RandomForestClassifier(random_state=42)</pre></div></div></div><div class=\"sk-serial\"><div class=\"sk-item\"><div class=\"sk-estimator sk-toggleable\"><input class=\"sk-toggleable__control sk-hidden--visually\" id=\"sk-estimator-id-3\" type=\"checkbox\" ><label for=\"sk-estimator-id-3\" class=\"sk-toggleable__label sk-toggleable__label-arrow\">RandomForestClassifier</label><div class=\"sk-toggleable__content\"><pre>RandomForestClassifier(random_state=42)</pre></div></div></div></div></div></div></div></div></div></div>"
      ],
      "text/plain": [
       "GridSearchCV(cv=10, estimator=RandomForestClassifier(random_state=42),\n",
       "             n_jobs=-1,\n",
       "             param_grid={'class_weight': [None, 'balanced'],\n",
       "                         'max_depth': [None, 5, 10, 15],\n",
       "                         'max_features': ['sqrt', 'log2'],\n",
       "                         'min_samples_leaf': [1, 2, 5],\n",
       "                         'min_samples_split': [2, 5, 10],\n",
       "                         'n_estimators': [100, 200, 500]},\n",
       "             scoring='recall', verbose=2)"
      ]
     },
     "execution_count": 218,
     "metadata": {},
     "output_type": "execute_result"
    }
   ],
   "source": [
    "rf_cv.fit(x_train_mean,y_train_mean)"
   ]
  },
  {
   "cell_type": "code",
   "execution_count": 219,
   "id": "61760de3-f072-40b9-94d4-559694ae04f0",
   "metadata": {},
   "outputs": [
    {
     "data": {
      "text/plain": [
       "{'class_weight': 'balanced',\n",
       " 'max_depth': 5,\n",
       " 'max_features': 'sqrt',\n",
       " 'min_samples_leaf': 2,\n",
       " 'min_samples_split': 10,\n",
       " 'n_estimators': 100}"
      ]
     },
     "execution_count": 219,
     "metadata": {},
     "output_type": "execute_result"
    }
   ],
   "source": [
    "rf_cv.best_params_"
   ]
  },
  {
   "cell_type": "code",
   "execution_count": 220,
   "id": "65378856-b54b-4068-b504-6de4c3c7fe4e",
   "metadata": {},
   "outputs": [
    {
     "data": {
      "text/plain": [
       "0.7887445887445887"
      ]
     },
     "execution_count": 220,
     "metadata": {},
     "output_type": "execute_result"
    }
   ],
   "source": [
    "rf_cv.best_score_"
   ]
  },
  {
   "cell_type": "code",
   "execution_count": 221,
   "id": "cc86ef31-12bd-43b6-b29f-300d7ce68e23",
   "metadata": {},
   "outputs": [],
   "source": [
    "model_tuned=RandomForestClassifier(class_weight='balanced',max_depth=5,max_features='sqrt',min_samples_leaf=2,min_samples_split=10,n_estimators=100).fit(x_train_mean,y_train_mean)"
   ]
  },
  {
   "cell_type": "code",
   "execution_count": 222,
   "id": "88cfdd77-154d-4e7a-90ba-ec849876cb78",
   "metadata": {},
   "outputs": [
    {
     "data": {
      "text/plain": [
       "0.7532467532467533"
      ]
     },
     "execution_count": 222,
     "metadata": {},
     "output_type": "execute_result"
    }
   ],
   "source": [
    "accuracy_score(y_test_mean,model_tuned.predict(x_test_mean))"
   ]
  },
  {
   "cell_type": "code",
   "execution_count": 226,
   "id": "743b94bd-06e5-4acb-b26e-c5e2bb80335f",
   "metadata": {},
   "outputs": [
    {
     "name": "stdout",
     "output_type": "stream",
     "text": [
      "              precision    recall  f1-score   support\n",
      "\n",
      "           0       0.93      0.81      0.86       401\n",
      "           1       0.71      0.88      0.78       213\n",
      "\n",
      "    accuracy                           0.83       614\n",
      "   macro avg       0.82      0.84      0.82       614\n",
      "weighted avg       0.85      0.83      0.84       614\n",
      "\n"
     ]
    }
   ],
   "source": [
    "print(classification_report(y_train_mean,model_tuned.predict(x_train_mean)))"
   ]
  },
  {
   "cell_type": "code",
   "execution_count": 225,
   "id": "1de227bd-11a5-4110-ab79-fd46a05968c1",
   "metadata": {},
   "outputs": [
    {
     "name": "stdout",
     "output_type": "stream",
     "text": [
      "              precision    recall  f1-score   support\n",
      "\n",
      "           0       0.89      0.71      0.79        99\n",
      "           1       0.61      0.84      0.71        55\n",
      "\n",
      "    accuracy                           0.75       154\n",
      "   macro avg       0.75      0.77      0.75       154\n",
      "weighted avg       0.79      0.75      0.76       154\n",
      "\n"
     ]
    }
   ],
   "source": [
    "print(classification_report(y_test_mean,model_tuned.predict(x_test_mean)))"
   ]
  },
  {
   "cell_type": "code",
   "execution_count": 228,
   "id": "34ee2c3a-4019-4fa2-855c-f79c429469cf",
   "metadata": {},
   "outputs": [],
   "source": [
    "importances=model_tuned.feature_importances_\n",
    "feat_importances=pd.Series(importances,index=x_train_mean.columns)"
   ]
  },
  {
   "cell_type": "code",
   "execution_count": 233,
   "id": "c0bd1ba1-aaac-4a61-8bd1-9b7e8671e507",
   "metadata": {},
   "outputs": [
    {
     "data": {
      "image/png": "[encoded data removed]",
      "text/plain": [
       "<Figure size 640x480 with 1 Axes>"
      ]
     },
     "metadata": {},
     "output_type": "display_data"
    }
   ],
   "source": [
    "import matplotlib.pyplot as plt\n",
    "feat_importances.sort_values().plot(kind=\"barh\")\n",
    "plt.title('Feature Importance')\n",
    "plt.show();"
   ]
  },
  {
   "cell_type": "code",
   "execution_count": 235,
   "id": "e709312f-a308-4171-8799-a080299d69d9",
   "metadata": {},
   "outputs": [],
   "source": [
    "from sklearn.metrics import auc,roc_curve"
   ]
  },
  {
   "cell_type": "code",
   "execution_count": 236,
   "id": "24a771ae-422d-4723-b5ed-49c11e901d9c",
   "metadata": {},
   "outputs": [],
   "source": [
    "y_proba=model_tuned.predict_proba(x_test_mean)[:,1]\n",
    "fpr,tpr,_=roc_curve(y_test_mean,y_proba)\n",
    "roc_auc=auc(fpr,tpr)"
   ]
  },
  {
   "cell_type": "code",
   "execution_count": 238,
   "id": "4d10b999-aa60-4125-a4ce-762b01ba926d",
   "metadata": {},
   "outputs": [
    {
     "data": {
      "image/png": "[encoded data removed]",
      "text/plain": [
       "<Figure size 640x480 with 1 Axes>"
      ]
     },
     "metadata": {},
     "output_type": "display_data"
    }
   ],
   "source": [
    "plt.plot(fpr,tpr,label=f\"ROC Curve(AUC={roc_auc:.2f})\")\n",
    "plt.plot([0,1],[0,1],'--',color='red')\n",
    "plt.xlabel('False Positive Rate')\n",
    "plt.ylabel('True Positive Rate')\n",
    "plt.title('ROC Curve')\n",
    "plt.legend()\n",
    "plt.show();"
   ]
  }
 ],
 "metadata": {
  "kernelspec": {
   "display_name": "Python 3 (ipykernel)",
   "language": "python",
   "name": "python3"
  },
  "language_info": {
   "codemirror_mode": {
    "name": "ipython",
    "version": 3
   },
   "file_extension": ".py",
   "mimetype": "text/x-python",
   "name": "python",
   "nbconvert_exporter": "python",
   "pygments_lexer": "ipython3",
   "version": "3.9.23"
  }
 },
 "nbformat": 4,
 "nbformat_minor": 5
}
